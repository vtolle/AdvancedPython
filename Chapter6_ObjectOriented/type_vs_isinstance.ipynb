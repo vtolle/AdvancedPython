{
 "cells": [
  {
   "cell_type": "code",
   "execution_count": 24,
   "metadata": {},
   "outputs": [],
   "source": [
    "class Base(object):\n",
    "    def __init__(self):\n",
    "        pass\n",
    "\n",
    "class A(Base):\n",
    "    def __init__(self):\n",
    "        super().__init__()\n",
    "\n",
    "class B(Base):\n",
    "    def __init__(self):\n",
    "        super().__init__()\n",
    "\n",
    "class C(A, B):\n",
    "    def __init__(self):\n",
    "        super().__init__()"
   ]
  },
  {
   "cell_type": "code",
   "execution_count": 25,
   "metadata": {},
   "outputs": [
    {
     "output_type": "stream",
     "name": "stdout",
     "text": "type(var) == A\nisinstance(var, A)\n"
    }
   ],
   "source": [
    "var = A()\n",
    "\n",
    "if type(var) == A:\n",
    "    print(\"type(var) == A\")\n",
    "else:\n",
    "    print(\"type(var) != A\")\n",
    "\n",
    "if isinstance(var, A):\n",
    "    print(\"isinstance(var, A)\")\n",
    "else:\n",
    "    print(\"not isinstance(var, A)\")"
   ]
  },
  {
   "cell_type": "code",
   "execution_count": 26,
   "metadata": {},
   "outputs": [
    {
     "output_type": "stream",
     "name": "stdout",
     "text": "type(var2) != Base\nisinstance(var2, Base)\n"
    }
   ],
   "source": [
    "var2 = A()\n",
    "\n",
    "if type(var2) == Base:\n",
    "    print(\"type(var2) == Base\")\n",
    "else:\n",
    "    print(\"type(var2) != Base\")\n",
    "\n",
    "if isinstance(var2, Base):\n",
    "    print(\"isinstance(var2, Base)\")\n",
    "else:\n",
    "    print(\"not isinstance(var2, Base)\")"
   ]
  }
 ],
 "metadata": {
  "language_info": {
   "codemirror_mode": {
    "name": "ipython",
    "version": 3
   },
   "file_extension": ".py",
   "mimetype": "text/x-python",
   "name": "python",
   "nbconvert_exporter": "python",
   "pygments_lexer": "ipython3",
   "version": "3.8.1-final"
  },
  "orig_nbformat": 2,
  "kernelspec": {
   "name": "python38164bitpyudemyconda8c705f49a8e643418ce4b1ca64c8ab63",
   "display_name": "Python 3.8.1 64-bit ('pyUdemy': conda)"
  }
 },
 "nbformat": 4,
 "nbformat_minor": 2
}