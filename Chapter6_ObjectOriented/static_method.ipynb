{
 "nbformat": 4,
 "nbformat_minor": 2,
 "metadata": {
  "language_info": {
   "name": "python",
   "codemirror_mode": {
    "name": "ipython",
    "version": 3
   },
   "version": "3.8.1-final"
  },
  "orig_nbformat": 2,
  "file_extension": ".py",
  "mimetype": "text/x-python",
  "name": "python",
  "npconvert_exporter": "python",
  "pygments_lexer": "ipython3",
  "version": 3,
  "kernelspec": {
   "name": "python38164bitpyudemyconda8c705f49a8e643418ce4b1ca64c8ab63",
   "display_name": "Python 3.8.1 64-bit ('pyUdemy': conda)"
  }
 },
 "cells": [
  {
   "cell_type": "code",
   "execution_count": 7,
   "metadata": {},
   "outputs": [],
   "source": [
    "from time import localtime\n",
    "\n",
    "class Date:\n",
    "    def __init__(self, year, month, day):\n",
    "        self.year = year\n",
    "        self.month = month\n",
    "        self.day = day\n",
    "\n",
    "    # member/instance method\n",
    "    def print_date(self):\n",
    "        print('{0} {1} {2}'.format(self.year, self.month, self.day))\n",
    "\n",
    "    # can only modify the state of the class, not a single instance\n",
    "    @classmethod\n",
    "    def get_todays_date(cls):\n",
    "        date = cls.__new__(cls)\n",
    "        time = localtime()\n",
    "        date.year = time.tm_year\n",
    "        date.month = time.tm_mon\n",
    "        date.day = time.tm_mday\n",
    "        return date\n",
    "\n",
    "    # can neither modify the object state of an instance nor the class state itself\n",
    "    # it is rather a way to namespace your methods\n",
    "    @staticmethod\n",
    "    def is_todays_date(year, month, day):\n",
    "        time = localtime()\n",
    "        if year == time.tm_year and month == time.tm_mon and day == time.tm_mday:\n",
    "            return True\n",
    "        else:\n",
    "            return False"
   ]
  },
  {
   "cell_type": "code",
   "execution_count": 8,
   "metadata": {},
   "outputs": [
    {
     "output_type": "stream",
     "name": "stdout",
     "text": "2008 10 12\n"
    }
   ],
   "source": [
    "date1 = Date(year=2008, month=10, day=12)\n",
    "date1.print_date()"
   ]
  },
  {
   "cell_type": "code",
   "execution_count": 9,
   "metadata": {},
   "outputs": [
    {
     "output_type": "stream",
     "name": "stdout",
     "text": "2020 4 17\n"
    }
   ],
   "source": [
    "date2 = Date.get_todays_date()\n",
    "date2.print_date()"
   ]
  },
  {
   "cell_type": "code",
   "execution_count": 11,
   "metadata": {},
   "outputs": [
    {
     "output_type": "execute_result",
     "data": {
      "text/plain": "True"
     },
     "metadata": {},
     "execution_count": 11
    }
   ],
   "source": [
    "Date.is_todays_date(date2.year, date2.month, date2.day)"
   ]
  }
 ]
}