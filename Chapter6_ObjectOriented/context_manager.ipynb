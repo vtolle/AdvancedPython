{
 "cells": [
  {
   "cell_type": "markdown",
   "metadata": {},
   "source": [
    "### Context Managers:\n",
    "\n",
    "```python\n",
    "with ContextManager() as var_name:\n",
    "    # do_something\n",
    "```\n",
    "\n",
    "At entering the with-Context, the object gets created (__init__ and __enter__).\n",
    "At exiting the with-Context, the object calls the __exit__ method."
   ]
  },
  {
   "cell_type": "code",
   "execution_count": 16,
   "metadata": {},
   "outputs": [],
   "source": [
    "class NameHandler:\n",
    "    def __init__(self, name):\n",
    "        self.name = name\n",
    "        print(\"Creating {}\".format(self.name))\n",
    "\n",
    "    def __enter__(self):\n",
    "        print(\"Entering with: {}\".format(self.name))\n",
    "        if not isinstance(self.name, str):\n",
    "            raise TypeError\n",
    "        return self\n",
    "\n",
    "    def __exit__(self, exception_type, exception_value, traceback):\n",
    "        print(\"Exiting with: {}\".format(self.name))"
   ]
  },
  {
   "cell_type": "code",
   "execution_count": 17,
   "metadata": {},
   "outputs": [
    {
     "output_type": "stream",
     "name": "stdout",
     "text": "Creating Jan\nEntering with: Jan\nExiting with: 2\n"
    }
   ],
   "source": [
    "with NameHandler(\"Jan\") as m: # __init__\n",
    "    m.name = 2 # __enter__\n",
    "# __exit__"
   ]
  }
 ],
 "metadata": {
  "language_info": {
   "codemirror_mode": {
    "name": "ipython",
    "version": 3
   },
   "file_extension": ".py",
   "mimetype": "text/x-python",
   "name": "python",
   "nbconvert_exporter": "python",
   "pygments_lexer": "ipython3",
   "version": "3.8.1-final"
  },
  "orig_nbformat": 2,
  "kernelspec": {
   "name": "python38164bitpyudemyconda8c705f49a8e643418ce4b1ca64c8ab63",
   "display_name": "Python 3.8.1 64-bit ('pyUdemy': conda)"
  }
 },
 "nbformat": 4,
 "nbformat_minor": 2
}