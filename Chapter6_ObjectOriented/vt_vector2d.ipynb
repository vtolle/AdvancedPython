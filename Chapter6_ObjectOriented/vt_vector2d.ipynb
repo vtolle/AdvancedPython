{
 "nbformat": 4,
 "nbformat_minor": 2,
 "metadata": {
  "language_info": {
   "name": "python",
   "codemirror_mode": {
    "name": "ipython",
    "version": 3
   },
   "version": "3.8.5-final"
  },
  "orig_nbformat": 2,
  "file_extension": ".py",
  "mimetype": "text/x-python",
  "name": "python",
  "npconvert_exporter": "python",
  "pygments_lexer": "ipython3",
  "version": 3,
  "kernelspec": {
   "name": "python38564bitpyadvancedcondab616d4d1378b48de9ece42a5513222bf",
   "display_name": "Python 3.8.5 64-bit ('pyAdvanced': conda)"
  }
 },
 "cells": [
  {
   "cell_type": "code",
   "execution_count": 1,
   "metadata": {},
   "outputs": [],
   "source": [
    "from math import sqrt\n",
    "from functools import total_ordering\n",
    "\n",
    "@total_ordering\n",
    "class Vector2D:\n",
    "    def __init__(self, x=0, y=0):\n",
    "        self.x = x\n",
    "        self.y = y\n",
    "\n",
    "    def __repr__(self):\n",
    "        return 'vector.Vector2D({}, {})'.format(self.x, self.y)\n",
    "\n",
    "    def __str__(self):\n",
    "        return '({}, {})'.format(self.x, self.y)\n",
    "\n",
    "    def __add__(self, other_vector):\n",
    "        x = self.x + other_vector.x\n",
    "        y = self.y + other_vector.y\n",
    "        return Vector2D(x, y)\n",
    "\n",
    "    def __add__(self, other_vector):\n",
    "        x = self.x + other_vector.x\n",
    "        y = self.y + other_vector.y\n",
    "        return Vector2D(x, y)\n",
    "\n",
    "    def __sub__(self, other_vector):\n",
    "        x = self.x - other_vector.x\n",
    "        y = self.y - other_vector.y\n",
    "        return Vector2D(x, y)\n",
    "\n",
    "    def __mul__(self, other):\n",
    "        if isinstance(other, Vector2D):\n",
    "            return self.x * other.x + self.y * other.y\n",
    "        else:\n",
    "            return Vector2D(self.x * other, self.y * other)\n",
    "\n",
    "    def __truediv__(self, other):\n",
    "        return Vector2D(self.x / other, self.y / other)\n",
    "\n",
    "    def __lt__(self, other_vector):\n",
    "        if abs(self) < abs(other_vector):\n",
    "            return True\n",
    "        else:\n",
    "            return False\n",
    "\n",
    "    def __abs__(self):\n",
    "        return sqrt(pow(self.x, 2) + pow(self.y, 2))\n",
    "\n",
    "    def __bool__(self):\n",
    "        return bool(abs(self))\n",
    "    \n",
    "    def __eq__(self, other_vector):\n",
    "        if self.x == other_vector.x and self.y == other_vector.y:\n",
    "            return True\n",
    "        else:\n",
    "            return False\n",
    "\n",
    "    def __call__(self):\n",
    "        print(\"Calling the __call__ function!\")\n",
    "        return self.__repr__()\n"
   ]
  },
  {
   "cell_type": "code",
   "execution_count": 6,
   "metadata": {
    "tags": []
   },
   "outputs": [
    {
     "output_type": "stream",
     "name": "stdout",
     "text": "vector.Vector2D(0, 0)\n(0, 0)\nvector.Vector2D(1, 1)\n(1, 1)\n(1, 1)\n(-1, -1)\n0\n(0.2, 0.2)\nFalse\nFalse\nFalse\nTrue\nTrue\nFalse\nTrue\n1.4142135623730951\nyes\nv1 - no\nCalling the __call__ function!\n"
    },
    {
     "output_type": "execute_result",
     "data": {
      "text/plain": "'vector.Vector2D(2, 3)'"
     },
     "metadata": {},
     "execution_count": 6
    }
   ],
   "source": [
    "v1 = Vector2D(0, 0)\n",
    "print(repr(v1))\n",
    "print(str(v1))\n",
    "v2 = Vector2D(1, 1)\n",
    "print(repr(v2))\n",
    "print(str(v2))\n",
    "\n",
    "print(v1 + v2)\n",
    "print(v1 - v2)\n",
    "print(v1 * v2)\n",
    "print(v2 / 5.0)\n",
    "print(v1 == v2)\n",
    "\n",
    "v5 = Vector2D(2, 3)\n",
    "v6 = Vector2D(-1, 2)\n",
    "\n",
    "print(v5 < v6)\n",
    "print(v5 <= v6)\n",
    "print(v5 > v6)\n",
    "print(v5 >= v6)\n",
    "print(v5 == v6)\n",
    "print(v5 != v6)\n",
    "\n",
    "print(abs(v2))\n",
    "\n",
    "v3 = Vector2D(2, 2)\n",
    "v4 = Vector2D(2, 2)\n",
    "\n",
    "if v3:\n",
    "    print(\"yes\")\n",
    "if v1:\n",
    "    print(\"v1 - yes\")\n",
    "else:\n",
    "    print(\"v1 - no\")\n",
    "\n",
    "v5()"
   ]
  },
  {
   "cell_type": "code",
   "execution_count": null,
   "metadata": {},
   "outputs": [],
   "source": []
  }
 ]
}