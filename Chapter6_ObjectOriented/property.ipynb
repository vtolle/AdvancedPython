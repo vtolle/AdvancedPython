{
 "nbformat": 4,
 "nbformat_minor": 2,
 "metadata": {
  "language_info": {
   "name": "python",
   "codemirror_mode": {
    "name": "ipython",
    "version": 3
   },
   "version": "3.8.5-final"
  },
  "orig_nbformat": 2,
  "file_extension": ".py",
  "mimetype": "text/x-python",
  "name": "python",
  "npconvert_exporter": "python",
  "pygments_lexer": "ipython3",
  "version": 3,
  "kernelspec": {
   "name": "python38564bitpyadvancedcondab616d4d1378b48de9ece42a5513222bf",
   "display_name": "Python 3.8.5 64-bit ('pyAdvanced': conda)"
  }
 },
 "cells": [
  {
   "cell_type": "code",
   "execution_count": 1,
   "metadata": {},
   "outputs": [],
   "source": [
    "class User:\n",
    "    def __init__(self, name, user_id):\n",
    "        self._name = name\n",
    "        self._user_id = user_id\n",
    "\n",
    "    def __str__(self):\n",
    "        return '{}, {}'.format(self._name, self._user_id)\n",
    "\n",
    "    def get_name(self):\n",
    "        return self._name\n",
    "\n",
    "    def set_name(self, new_name):\n",
    "        self._name = new_name"
   ]
  },
  {
   "cell_type": "code",
   "execution_count": 2,
   "metadata": {},
   "outputs": [],
   "source": [
    "class User:\n",
    "    def __init__(self, name, user_id):\n",
    "        self._name = name\n",
    "        self._user_id = user_id\n",
    "\n",
    "    def __str__(self):\n",
    "        return '{}, {}'.format(self._name, self._user_id)\n",
    "\n",
    "    # Getter for \"name\"\n",
    "    @property\n",
    "    def name(self):\n",
    "        return self._name\n",
    "\n",
    "    @name.setter\n",
    "    def name(self, new_name):\n",
    "        self._name = new_name"
   ]
  },
  {
   "cell_type": "code",
   "execution_count": 3,
   "metadata": {
    "tags": []
   },
   "outputs": [
    {
     "output_type": "stream",
     "name": "stdout",
     "text": "Jan, 123\nPeter, 123\n"
    },
    {
     "output_type": "execute_result",
     "data": {
      "text/plain": "'Peter'"
     },
     "metadata": {},
     "execution_count": 3
    }
   ],
   "source": [
    "u1 = User('Jan', 123)\n",
    "print(u1)\n",
    "u1.name = 'Peter'\n",
    "print(u1)\n",
    "u1.name"
   ]
  },
  {
   "cell_type": "code",
   "execution_count": 5,
   "metadata": {
    "tags": []
   },
   "outputs": [
    {
     "output_type": "stream",
     "name": "stdout",
     "text": "Hallo, 234\nWelt, 234\n"
    }
   ],
   "source": [
    "u2 = User('Hallo', 234)\n",
    "print(u2)\n",
    "u2._name = 'Sonne'\n",
    "u2.name = 'Welt'\n",
    "print(u2)"
   ]
  },
  {
   "cell_type": "code",
   "execution_count": null,
   "metadata": {},
   "outputs": [],
   "source": []
  }
 ]
}