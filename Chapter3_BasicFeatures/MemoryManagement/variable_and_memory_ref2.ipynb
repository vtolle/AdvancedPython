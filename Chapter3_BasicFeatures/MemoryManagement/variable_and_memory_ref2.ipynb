{
 "nbformat": 4,
 "nbformat_minor": 2,
 "metadata": {
  "language_info": {
   "name": "python",
   "codemirror_mode": {
    "name": "ipython",
    "version": 3
   },
   "version": "3.8.1-final"
  },
  "orig_nbformat": 2,
  "file_extension": ".py",
  "mimetype": "text/x-python",
  "name": "python",
  "npconvert_exporter": "python",
  "pygments_lexer": "ipython3",
  "version": 3,
  "kernelspec": {
   "name": "python38164bitpyudemyconda8c705f49a8e643418ce4b1ca64c8ab63",
   "display_name": "Python 3.8.1 64-bit ('pyUdemy': conda)"
  }
 },
 "cells": [
  {
   "cell_type": "code",
   "execution_count": 11,
   "metadata": {},
   "outputs": [],
   "source": [
    "def print_memory_address(var):\n",
    "    print(hex(id(var)))"
   ]
  },
  {
   "cell_type": "code",
   "execution_count": 12,
   "metadata": {},
   "outputs": [
    {
     "output_type": "stream",
     "name": "stdout",
     "text": "0x7fff051f2370\n0x7fff051f2370\n"
    }
   ],
   "source": [
    "my_int_val1 = 100\n",
    "my_int_val2 = 100\n",
    "\n",
    "print_memory_address(my_int_val1)\n",
    "print_memory_address(my_int_val2)"
   ]
  },
  {
   "cell_type": "code",
   "execution_count": 13,
   "metadata": {},
   "outputs": [
    {
     "output_type": "stream",
     "name": "stdout",
     "text": "0x161f58eaa10\n0x161f58eaf10\n"
    }
   ],
   "source": [
    "my_int_val1 = 1000\n",
    "my_int_val2 = 1000\n",
    "\n",
    "print_memory_address(my_int_val1)\n",
    "print_memory_address(my_int_val2)"
   ]
  },
  {
   "cell_type": "code",
   "execution_count": 14,
   "metadata": {},
   "outputs": [],
   "source": [
    "my_list1 = []"
   ]
  },
  {
   "cell_type": "code",
   "execution_count": 15,
   "metadata": {},
   "outputs": [],
   "source": [
    "import random\n",
    "random.seed(42)\n",
    "\n",
    "def append_random_value(l):\n",
    "    l.append(random.randint(-100, 100))"
   ]
  },
  {
   "cell_type": "code",
   "execution_count": 16,
   "metadata": {},
   "outputs": [],
   "source": [
    "append_random_value(my_list1)"
   ]
  },
  {
   "cell_type": "code",
   "execution_count": 17,
   "metadata": {},
   "outputs": [
    {
     "output_type": "stream",
     "name": "stdout",
     "text": "[63]\n"
    }
   ],
   "source": [
    "print(my_list1)"
   ]
  },
  {
   "cell_type": "code",
   "execution_count": 18,
   "metadata": {},
   "outputs": [],
   "source": [
    "def square_list(inner_list):\n",
    "    inner_list = [val**2 for val in l]\n",
    "    return inner_list"
   ]
  },
  {
   "cell_type": "code",
   "execution_count": 20,
   "metadata": {},
   "outputs": [
    {
     "output_type": "stream",
     "name": "stdout",
     "text": "[1, 2, 3, 4, 5]\n[1, 4, 9, 16, 25]\n"
    }
   ],
   "source": [
    "my_list2 = [1, 2, 3, 4, 5]\n",
    "\n",
    "my_squared_list = square_list(my_list2)\n",
    "\n",
    "print(my_list2)\n",
    "print(my_squared_list)"
   ]
  }
 ]
}