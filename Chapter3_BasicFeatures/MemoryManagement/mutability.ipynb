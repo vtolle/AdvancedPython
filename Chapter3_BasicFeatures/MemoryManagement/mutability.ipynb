{
 "nbformat": 4,
 "nbformat_minor": 2,
 "metadata": {
  "language_info": {
   "name": "python",
   "codemirror_mode": {
    "name": "ipython",
    "version": 3
   },
   "version": "3.8.1-final"
  },
  "orig_nbformat": 2,
  "file_extension": ".py",
  "mimetype": "text/x-python",
  "name": "python",
  "npconvert_exporter": "python",
  "pygments_lexer": "ipython3",
  "version": 3,
  "kernelspec": {
   "name": "python38164bitpyudemyconda8c705f49a8e643418ce4b1ca64c8ab63",
   "display_name": "Python 3.8.1 64-bit ('pyUdemy': conda)"
  }
 },
 "cells": [
  {
   "cell_type": "code",
   "execution_count": 1,
   "metadata": {},
   "outputs": [],
   "source": [
    "# Mutable types: list, dict, set, etc.\n",
    "# Immutable types: int, float, bool, str, tuple"
   ]
  },
  {
   "cell_type": "code",
   "execution_count": 7,
   "metadata": {},
   "outputs": [
    {
     "output_type": "stream",
     "name": "stdout",
     "text": "[1, 2, 3]\n(1, 2, 3)\n"
    }
   ],
   "source": [
    "my_list = [1, 2, 3]\n",
    "my_tuple = (1, 2, 3)\n",
    "\n",
    "print(my_list)\n",
    "print(my_tuple)\n",
    "\n",
    "my_tuple = my_list"
   ]
  },
  {
   "cell_type": "code",
   "execution_count": 5,
   "metadata": {},
   "outputs": [],
   "source": [
    "my_list[0] = -1\n",
    "# my_tuple[0] = -1"
   ]
  },
  {
   "cell_type": "code",
   "execution_count": 10,
   "metadata": {},
   "outputs": [],
   "source": [
    "def print_memory_address(var):\n",
    "    print(hex(id(var)))"
   ]
  },
  {
   "cell_type": "code",
   "execution_count": 15,
   "metadata": {},
   "outputs": [
    {
     "output_type": "stream",
     "name": "stdout",
     "text": "0x7fff051f1c30\n0x7fff051f1c50\n"
    }
   ],
   "source": [
    "my_int1 = 42\n",
    "print_memory_address(my_int1)\n",
    "my_int1 = my_int1 + 1\n",
    "print_memory_address(my_int1)"
   ]
  },
  {
   "cell_type": "code",
   "execution_count": 16,
   "metadata": {},
   "outputs": [
    {
     "output_type": "stream",
     "name": "stdout",
     "text": "0x28c6ae35240\n0x28c6ae35240\n0x28c6ae35240\n"
    }
   ],
   "source": [
    "my_list2 = [1, 2]\n",
    "print_memory_address(my_list2)\n",
    "my_list2.append(3)\n",
    "print_memory_address(my_list2)\n",
    "my_list2.pop()\n",
    "print_memory_address(my_list2)"
   ]
  }
 ]
}