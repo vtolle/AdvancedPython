{
 "nbformat": 4,
 "nbformat_minor": 2,
 "metadata": {
  "language_info": {
   "name": "python",
   "codemirror_mode": {
    "name": "ipython",
    "version": 3
   },
   "version": "3.8.1-final"
  },
  "orig_nbformat": 2,
  "file_extension": ".py",
  "mimetype": "text/x-python",
  "name": "python",
  "npconvert_exporter": "python",
  "pygments_lexer": "ipython3",
  "version": 3,
  "kernelspec": {
   "name": "python38164bitpyudemyconda8c705f49a8e643418ce4b1ca64c8ab63",
   "display_name": "Python 3.8.1 64-bit ('pyUdemy': conda)"
  }
 },
 "cells": [
  {
   "cell_type": "code",
   "execution_count": 29,
   "metadata": {},
   "outputs": [],
   "source": [
    "def print_memory_address(var):\n",
    "    print(hex(id(var)))"
   ]
  },
  {
   "cell_type": "code",
   "execution_count": 30,
   "metadata": {},
   "outputs": [
    {
     "output_type": "stream",
     "name": "stdout",
     "text": "0x7fff0cab1830\n"
    }
   ],
   "source": [
    "my_test_value = 10 # int(10)\n",
    "print_memory_address(my_test_value)"
   ]
  },
  {
   "cell_type": "code",
   "execution_count": 31,
   "metadata": {},
   "outputs": [
    {
     "output_type": "stream",
     "name": "stdout",
     "text": "0x7fff0cab1c30\n0x7fff0cab1c30\n0x7fff0cab1c30\n"
    }
   ],
   "source": [
    "my_int_value1 = 42\n",
    "my_int_value2 = 42\n",
    "my_int_value3 = 42\n",
    "\n",
    "print_memory_address(my_int_value1)\n",
    "print_memory_address(my_int_value2)\n",
    "print_memory_address(my_int_value3)"
   ]
  },
  {
   "cell_type": "code",
   "execution_count": 32,
   "metadata": {},
   "outputs": [
    {
     "output_type": "stream",
     "name": "stdout",
     "text": "0x19d4081d930\n0x19d4081d7d0\n0x19d4081d7b0\n"
    }
   ],
   "source": [
    "my_float_value1 = 42.0\n",
    "my_float_value2 = 42.0\n",
    "my_float_value3 = 42.0\n",
    "\n",
    "print_memory_address(my_float_value1)\n",
    "print_memory_address(my_float_value2)\n",
    "print_memory_address(my_float_value3)"
   ]
  },
  {
   "cell_type": "code",
   "execution_count": 33,
   "metadata": {},
   "outputs": [
    {
     "output_type": "stream",
     "name": "stdout",
     "text": "0x7fff0ca6c750\n0x7fff0ca6c750\n"
    }
   ],
   "source": [
    "my_bool1 = True\n",
    "my_bool2 = True\n",
    "\n",
    "print_memory_address(my_bool1)\n",
    "print_memory_address(my_bool2)"
   ]
  },
  {
   "cell_type": "code",
   "execution_count": 34,
   "metadata": {},
   "outputs": [
    {
     "output_type": "stream",
     "name": "stdout",
     "text": "0x7fff0ca6c770\n0x7fff0ca6c770\n"
    }
   ],
   "source": [
    "my_bool1 = False\n",
    "my_bool2 = False\n",
    "\n",
    "print_memory_address(my_bool1)\n",
    "print_memory_address(my_bool2)"
   ]
  },
  {
   "cell_type": "code",
   "execution_count": 35,
   "metadata": {},
   "outputs": [
    {
     "output_type": "stream",
     "name": "stdout",
     "text": "0x7fff0ca78880\n0x7fff0ca78880\n"
    }
   ],
   "source": [
    "my_none1 = None\n",
    "my_none2 = None\n",
    "\n",
    "print_memory_address(my_none1)\n",
    "print_memory_address(my_none2)"
   ]
  },
  {
   "cell_type": "code",
   "execution_count": 36,
   "metadata": {},
   "outputs": [
    {
     "output_type": "stream",
     "name": "stdout",
     "text": "[1, 2, 3]\n[1, 2, 3]\n0x19d3f91d800\n0x19d3f91d800\n0x19d404e0300\n0x19d3f91d800\n"
    }
   ],
   "source": [
    "my_list1 = [1, 2, 3]\n",
    "my_list2 = my_list1\n",
    "\n",
    "print(my_list1)\n",
    "print(my_list2)\n",
    "\n",
    "print_memory_address(my_list1)\n",
    "print_memory_address(my_list2)\n",
    "\n",
    "my_list1 = [-1, -2, -3]\n",
    "\n",
    "print_memory_address(my_list1)\n",
    "print_memory_address(my_list2)"
   ]
  },
  {
   "cell_type": "code",
   "execution_count": 37,
   "metadata": {},
   "outputs": [
    {
     "output_type": "stream",
     "name": "stdout",
     "text": "c_ulong(661)\nc_ulong(661)\n"
    }
   ],
   "source": [
    "a = 10\n",
    "b = 10\n",
    "\n",
    "print_memory_address(a)\n",
    "print_memory_address(b)\n",
    "print()\n",
    "\n",
    "b = 8\n",
    "\n",
    "print_memory_address(a)\n",
    "print_memory_address(b)\n",
    "print()\n",
    "\n",
    "b = 10\n",
    "\n",
    "print_memory_address(a)\n",
    "print_memory_address(b)\n",
    "print()\n",
    "\n",
    "a = 8\n",
    "b = 9\n",
    "\n",
    "print_memory_address(a)\n",
    "print_memory_address(b)\n",
    "print()\n",
    "\n",
    "a = 10\n",
    "b = 10\n",
    "\n",
    "print_memory_address(a)\n",
    "print_memory_address(b)\n",
    "print()"
   ]
  },
  {
   "cell_type": "code",
   "execution_count": 43,
   "metadata": {},
   "outputs": [
    {
     "output_type": "stream",
     "name": "stdout",
     "text": "c_long(3)\n"
    }
   ],
   "source": [
    "import ctypes\n",
    "\n",
    "my_list1 = [1, 2, 3]\n",
    "my_list2 = my_list1\n",
    "my_list3 = my_list1\n",
    "\n",
    "print(ctypes.c_long.from_address(id(my_list1)))"
   ]
  }
 ]
}