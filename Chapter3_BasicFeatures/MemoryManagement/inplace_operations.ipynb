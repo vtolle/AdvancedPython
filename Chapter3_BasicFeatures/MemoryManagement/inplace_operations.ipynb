{
 "cells": [
  {
   "cell_type": "markdown",
   "metadata": {},
   "source": [
    "Immutable Types:"
   ]
  },
  {
   "cell_type": "code",
   "execution_count": 3,
   "metadata": {
    "tags": []
   },
   "outputs": [
    {
     "output_type": "stream",
     "name": "stdout",
     "text": "1 0x557bcb283d00\n2 0x557bcb283d20\n3 0x557bcb283d40\n"
    }
   ],
   "source": [
    "a = 1\n",
    "print(a, hex(id(a)))\n",
    "a = a + 1 #addition: __add__\n",
    "print(a, hex(id(a)))\n",
    "a += 1 # in-place addtion: __iadd__\n",
    "print(a, hex(id(a)))"
   ]
  },
  {
   "cell_type": "code",
   "execution_count": 4,
   "metadata": {
    "tags": []
   },
   "outputs": [
    {
     "output_type": "stream",
     "name": "stdout",
     "text": "1 0x557bcb283d00\n2 0x557bcb283d20\n4 0x557bcb283d60\n"
    }
   ],
   "source": [
    "b = 1\n",
    "print(b, hex(id(b)))\n",
    "b = b * 2\n",
    "print(b, hex(id(b)))\n",
    "b *= 2\n",
    "print(b, hex(id(b)))"
   ]
  },
  {
   "cell_type": "code",
   "execution_count": 5,
   "metadata": {
    "tags": []
   },
   "outputs": [
    {
     "output_type": "stream",
     "name": "stdout",
     "text": "(1,) 0x7fc2e9c67e50\n(1, 2) 0x7fc2eccdf040\n(1, 2, 3) 0x7fc2e9c30dc0\n"
    }
   ],
   "source": [
    "t = (1,)\n",
    "print(t, hex(id(t)))\n",
    "t = t + (2,)\n",
    "print(t, hex(id(t)))\n",
    "t += (3,)\n",
    "print(t, hex(id(t)))"
   ]
  },
  {
   "cell_type": "markdown",
   "metadata": {},
   "source": [
    "Mutable Types"
   ]
  },
  {
   "cell_type": "code",
   "execution_count": 8,
   "metadata": {
    "tags": []
   },
   "outputs": [
    {
     "output_type": "stream",
     "name": "stdout",
     "text": "<class 'list'>\n[1] 0x7fc2d350a340\n[1, 2] 0x7fc2d350a580\n[1, 2, 3] 0x7fc2d350a580\n"
    }
   ],
   "source": [
    "l = [1]\n",
    "print(type(l))\n",
    "print(l, hex(id(l)))\n",
    "l = l + [2] # __add__\n",
    "print(l, hex(id(l)))\n",
    "l += [3] # __iadd__\n",
    "print(l, hex(id(l)))"
   ]
  },
  {
   "cell_type": "code",
   "execution_count": 7,
   "metadata": {
    "tags": []
   },
   "outputs": [
    {
     "output_type": "stream",
     "name": "stdout",
     "text": "[1, 2, 3] 0x7fc2e93ed780\n[1, 2, 3, 1, 2, 3] 0x7fc2e9426540\n[1, 2, 3, 1, 2, 3, 1, 2, 3, 1, 2, 3] 0x7fc2e9426540\n"
    }
   ],
   "source": [
    "l2 = [1, 2, 3]\n",
    "print(l2, hex(id(l2)))\n",
    "l2 = l2 * 2 # __mul__\n",
    "print(l2, hex(id(l2)))\n",
    "l2 *= 2 # __imul__\n",
    "print(l2, hex(id(l2)))"
   ]
  }
 ],
 "metadata": {
  "language_info": {
   "codemirror_mode": {
    "name": "ipython",
    "version": 3
   },
   "file_extension": ".py",
   "mimetype": "text/x-python",
   "name": "python",
   "nbconvert_exporter": "python",
   "pygments_lexer": "ipython3",
   "version": "3.8.5-final"
  },
  "orig_nbformat": 2,
  "kernelspec": {
   "name": "python38564bitpyadvancedcondab616d4d1378b48de9ece42a5513222bf",
   "display_name": "Python 3.8.5 64-bit ('pyAdvanced': conda)"
  }
 },
 "nbformat": 4,
 "nbformat_minor": 2
}