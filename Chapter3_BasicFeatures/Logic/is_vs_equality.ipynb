{
 "nbformat": 4,
 "nbformat_minor": 2,
 "metadata": {
  "language_info": {
   "name": "python",
   "codemirror_mode": {
    "name": "ipython",
    "version": 3
   },
   "version": "3.8.1-final"
  },
  "orig_nbformat": 2,
  "file_extension": ".py",
  "mimetype": "text/x-python",
  "name": "python",
  "npconvert_exporter": "python",
  "pygments_lexer": "ipython3",
  "version": 3,
  "kernelspec": {
   "name": "python38164bitpyudemyconda8c705f49a8e643418ce4b1ca64c8ab63",
   "display_name": "Python 3.8.1 64-bit ('pyUdemy': conda)"
  }
 },
 "cells": [
  {
   "cell_type": "code",
   "execution_count": 1,
   "metadata": {},
   "outputs": [],
   "source": [
    "# 'is' and 'is not': memory equality\n",
    "# '==' and '!=': value equality\n",
    "\n",
    "# Is: Identity operator (memory adresses)\n",
    "# Value Equality: Operator to compare object values"
   ]
  },
  {
   "cell_type": "code",
   "execution_count": 6,
   "metadata": {},
   "outputs": [],
   "source": [
    "my_value1 = 10 # int(10)\n",
    "my_value2 = 10.0 # float(10.0)"
   ]
  },
  {
   "cell_type": "code",
   "execution_count": 7,
   "metadata": {},
   "outputs": [
    {
     "output_type": "stream",
     "name": "stdout",
     "text": "my_value1 == my_value2\n"
    }
   ],
   "source": [
    "if my_value1 == my_value2:\n",
    "    print(\"my_value1 == my_value2\")"
   ]
  },
  {
   "cell_type": "code",
   "execution_count": 8,
   "metadata": {},
   "outputs": [
    {
     "output_type": "stream",
     "name": "stdout",
     "text": "my_value1 is my_value2\n"
    }
   ],
   "source": [
    "if my_value1 is my_value2:\n",
    "    print(\"my_value1 is my_value2\")"
   ]
  },
  {
   "cell_type": "code",
   "execution_count": 11,
   "metadata": {},
   "outputs": [],
   "source": [
    "my_list1 = [1, 2]\n",
    "my_list2 = [1, 2]"
   ]
  },
  {
   "cell_type": "code",
   "execution_count": 12,
   "metadata": {},
   "outputs": [
    {
     "output_type": "stream",
     "name": "stdout",
     "text": "my_list1 == my_list2\n"
    }
   ],
   "source": [
    "if my_list1 == my_list2:\n",
    "    print(\"my_list1 == my_list2\")\n",
    "if my_list1 is my_list2:\n",
    "    print(\"my_value1 is my_list2\")"
   ]
  },
  {
   "cell_type": "code",
   "execution_count": null,
   "metadata": {},
   "outputs": [],
   "source": []
  }
 ]
}