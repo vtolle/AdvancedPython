{
 "nbformat": 4,
 "nbformat_minor": 2,
 "metadata": {
  "language_info": {
   "name": "python",
   "codemirror_mode": {
    "name": "ipython",
    "version": 3
   },
   "version": "3.8.1-final"
  },
  "orig_nbformat": 2,
  "file_extension": ".py",
  "mimetype": "text/x-python",
  "name": "python",
  "npconvert_exporter": "python",
  "pygments_lexer": "ipython3",
  "version": 3,
  "kernelspec": {
   "name": "python38164bitpyudemyconda8c705f49a8e643418ce4b1ca64c8ab63",
   "display_name": "Python 3.8.1 64-bit ('pyUdemy': conda)"
  }
 },
 "cells": [
  {
   "cell_type": "code",
   "execution_count": 1,
   "metadata": {},
   "outputs": [],
   "source": [
    "# A  B   OR   AND\n",
    "# 0  0    0    0\n",
    "# 1  0    1    0\n",
    "# 0  1    1    0\n",
    "# 1  1    1    1"
   ]
  },
  {
   "cell_type": "code",
   "execution_count": 2,
   "metadata": {},
   "outputs": [],
   "source": [
    "A = True\n",
    "B = False"
   ]
  },
  {
   "cell_type": "code",
   "execution_count": 10,
   "metadata": {},
   "outputs": [],
   "source": [
    "def bool_A(A):\n",
    "    print(\"Calling function: bool_A\")\n",
    "    if A:\n",
    "        return True\n",
    "    else:\n",
    "        return False"
   ]
  },
  {
   "cell_type": "code",
   "execution_count": 11,
   "metadata": {},
   "outputs": [],
   "source": [
    "def bool_B(B):\n",
    "    print(\"Calling function: bool_B\")\n",
    "    if B:\n",
    "        return True\n",
    "    else:\n",
    "        return False"
   ]
  },
  {
   "cell_type": "code",
   "execution_count": 14,
   "metadata": {},
   "outputs": [
    {
     "output_type": "stream",
     "name": "stdout",
     "text": "Calling function: bool_A\nCalling function: bool_B\nA or B\n"
    }
   ],
   "source": [
    "# 1  0    1    1\n",
    "# 1  1    1    1\n",
    "A = False\n",
    "B = True\n",
    "\n",
    "if bool_A(A) or bool_B(B):\n",
    "    print(\"A or B\")"
   ]
  },
  {
   "cell_type": "code",
   "execution_count": 17,
   "metadata": {},
   "outputs": [
    {
     "output_type": "stream",
     "name": "stdout",
     "text": "Calling function: bool_A\n"
    }
   ],
   "source": [
    "# 0  0    0    0\n",
    "# 0  1    0    0\n",
    "\n",
    "if bool_A(A) and bool_B(B):\n",
    "    print(\"A and B\")"
   ]
  }
 ]
}