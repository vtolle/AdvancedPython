{
 "nbformat": 4,
 "nbformat_minor": 2,
 "metadata": {
  "language_info": {
   "name": "python",
   "codemirror_mode": {
    "name": "ipython",
    "version": 3
   },
   "version": "3.8.1-final"
  },
  "orig_nbformat": 2,
  "file_extension": ".py",
  "mimetype": "text/x-python",
  "name": "python",
  "npconvert_exporter": "python",
  "pygments_lexer": "ipython3",
  "version": 3,
  "kernelspec": {
   "name": "python38164bitpyudemyconda8c705f49a8e643418ce4b1ca64c8ab63",
   "display_name": "Python 3.8.1 64-bit ('pyUdemy': conda)"
  }
 },
 "cells": [
  {
   "cell_type": "code",
   "execution_count": 3,
   "metadata": {},
   "outputs": [
    {
     "output_type": "stream",
     "name": "stdout",
     "text": "False\n0.30000000000000004440892098500626 <class 'float'>\n"
    }
   ],
   "source": [
    "my_addition = 1/10 + 1/10 + 1/10\n",
    "print(my_addition == 0.3)\n",
    "print('{:.32f}'.format(my_addition), type(my_addition))"
   ]
  },
  {
   "cell_type": "code",
   "execution_count": 4,
   "metadata": {},
   "outputs": [
    {
     "output_type": "stream",
     "name": "stdout",
     "text": "0.30000000000000004440892098500626 <class 'float'>\n"
    }
   ],
   "source": [
    "print('{:.32f}'.format(my_addition), type(my_addition))"
   ]
  },
  {
   "cell_type": "code",
   "execution_count": 5,
   "metadata": {},
   "outputs": [
    {
     "output_type": "stream",
     "name": "stdout",
     "text": "0.30000000000000004440892098500626 <class 'float'>\n"
    }
   ],
   "source": [
    "my_rounding1 = round(1/10, 6) + round(1/10, 6) + round(1/10, 6)\n",
    "print('{:.32f}'.format(my_rounding1), type(my_rounding1))"
   ]
  },
  {
   "cell_type": "code",
   "execution_count": 7,
   "metadata": {},
   "outputs": [
    {
     "output_type": "stream",
     "name": "stdout",
     "text": "0.29999999999999998889776975374843 <class 'float'>\n0.29999999999999998889776975374843 <class 'float'>\n"
    }
   ],
   "source": [
    "my_rounding2 = round(1/10 + 1/10 + 1/10, 6)\n",
    "print('{:.32f}'.format(my_rounding2), type(my_rounding2))\n",
    "print('{:.32f}'.format(0.3), type(0.3))"
   ]
  },
  {
   "cell_type": "code",
   "execution_count": 8,
   "metadata": {},
   "outputs": [],
   "source": [
    "# Absolute and relative tolerance\n",
    "# |x - y| < epsilon => floats are equal\n",
    "import math\n",
    "\n",
    "def floats_are_equal(x, y):\n",
    "    epsilon = 1e-15\n",
    "    is_equal = math.fabs(x - y) < epsilon\n",
    "    return is_equal"
   ]
  },
  {
   "cell_type": "code",
   "execution_count": 11,
   "metadata": {},
   "outputs": [
    {
     "output_type": "stream",
     "name": "stdout",
     "text": "300000.30000000004656612873077392578125 <class 'float'>\n300000.29999999998835846781730651855469 <class 'float'>\nFalse\nFalse\n"
    }
   ],
   "source": [
    "my_addition = 100_000.1 + 100_000.1 + 100_000.1\n",
    "my_expected_result = 300_000.3\n",
    "\n",
    "print('{:.32f}'.format(my_addition), type(my_addition))\n",
    "print('{:.32f}'.format(my_expected_result), type(my_expected_result))\n",
    "\n",
    "print(my_addition == my_expected_result)\n",
    "print(floats_are_equal(my_addition, my_expected_result))"
   ]
  },
  {
   "cell_type": "code",
   "execution_count": 15,
   "metadata": {},
   "outputs": [
    {
     "output_type": "stream",
     "name": "stdout",
     "text": "False\nFalse\nFalse\n"
    }
   ],
   "source": [
    "print(my_addition == my_expected_result)\n",
    "print(floats_are_equal(my_addition, my_expected_result))\n",
    "print(math.isclose(my_addition, my_expected_result, rel_tol=1e-20, abs_tol=1e-20))"
   ]
  }
 ]
}