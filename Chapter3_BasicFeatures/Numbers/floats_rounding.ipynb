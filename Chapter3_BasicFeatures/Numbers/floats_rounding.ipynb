{
 "nbformat": 4,
 "nbformat_minor": 2,
 "metadata": {
  "language_info": {
   "name": "python",
   "codemirror_mode": {
    "name": "ipython",
    "version": 3
   },
   "version": "3.8.1-final"
  },
  "orig_nbformat": 2,
  "file_extension": ".py",
  "mimetype": "text/x-python",
  "name": "python",
  "npconvert_exporter": "python",
  "pygments_lexer": "ipython3",
  "version": 3,
  "kernelspec": {
   "name": "python38164bitpyudemyconda8c705f49a8e643418ce4b1ca64c8ab63",
   "display_name": "Python 3.8.1 64-bit ('pyUdemy': conda)"
  }
 },
 "cells": [
  {
   "cell_type": "code",
   "execution_count": 3,
   "metadata": {},
   "outputs": [
    {
     "output_type": "stream",
     "name": "stdout",
     "text": "42.4242424242 <class 'float'>\n42 <class 'int'>\n"
    }
   ],
   "source": [
    "my_float_value = 42.4242424242\n",
    "print(my_float_value, type(my_float_value))\n",
    "\n",
    "my_casted_int_value = int(my_float_value)\n",
    "print(my_casted_int_value, type(my_casted_int_value))"
   ]
  },
  {
   "cell_type": "code",
   "execution_count": 4,
   "metadata": {},
   "outputs": [
    {
     "output_type": "stream",
     "name": "stdout",
     "text": "42 <class 'int'>\n"
    }
   ],
   "source": [
    "my_rounded_value = round(my_float_value)\n",
    "print(my_rounded_value, type(my_rounded_value))"
   ]
  },
  {
   "cell_type": "code",
   "execution_count": 6,
   "metadata": {},
   "outputs": [
    {
     "output_type": "stream",
     "name": "stdout",
     "text": "-43 <class 'int'>\n"
    }
   ],
   "source": [
    "my_float_value = -42.6\n",
    "my_rounded_value = round(my_float_value)\n",
    "print(my_rounded_value, type(my_rounded_value))"
   ]
  },
  {
   "cell_type": "code",
   "execution_count": 9,
   "metadata": {},
   "outputs": [
    {
     "output_type": "stream",
     "name": "stdout",
     "text": "42.6542 <class 'float'>\n"
    }
   ],
   "source": [
    "my_float_value = 42.65416\n",
    "my_rounded_value = round(my_float_value, 4)\n",
    "print(my_rounded_value, type(my_rounded_value))"
   ]
  },
  {
   "cell_type": "code",
   "execution_count": 16,
   "metadata": {},
   "outputs": [
    {
     "output_type": "stream",
     "name": "stdout",
     "text": "100.0 <class 'float'>\n"
    }
   ],
   "source": [
    "my_float_value = 148.65416\n",
    "# 10^2\n",
    "my_rounded_value = round(my_float_value, -2)\n",
    "print(my_rounded_value, type(my_rounded_value))"
   ]
  }
 ]
}