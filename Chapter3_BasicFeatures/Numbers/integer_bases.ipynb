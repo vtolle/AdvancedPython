{
 "nbformat": 4,
 "nbformat_minor": 2,
 "metadata": {
  "language_info": {
   "name": "python",
   "codemirror_mode": {
    "name": "ipython",
    "version": 3
   },
   "version": "3.8.1-final"
  },
  "orig_nbformat": 2,
  "file_extension": ".py",
  "mimetype": "text/x-python",
  "name": "python",
  "npconvert_exporter": "python",
  "pygments_lexer": "ipython3",
  "version": 3,
  "kernelspec": {
   "name": "python38164bitpyudemyconda8c705f49a8e643418ce4b1ca64c8ab63",
   "display_name": "Python 3.8.1 64-bit ('pyUdemy': conda)"
  }
 },
 "cells": [
  {
   "cell_type": "code",
   "execution_count": 1,
   "metadata": {},
   "outputs": [
    {
     "output_type": "stream",
     "name": "stdout",
     "text": "42 <class 'int'>\n42 <class 'int'>\n"
    }
   ],
   "source": [
    "my_value = 42\n",
    "print(my_value, type(my_value))\n",
    "my_value = int(42)\n",
    "print(my_value, type(my_value))"
   ]
  },
  {
   "cell_type": "code",
   "execution_count": 4,
   "metadata": {},
   "outputs": [
    {
     "output_type": "stream",
     "name": "stdout",
     "text": "42 <class 'int'>\n"
    }
   ],
   "source": [
    "# From [2, 36], decimal (base 10)\n",
    "my_value2 = int(\"42\", base=10)\n",
    "print(my_value2, type(my_value2))"
   ]
  },
  {
   "cell_type": "code",
   "execution_count": 3,
   "metadata": {},
   "outputs": [
    {
     "output_type": "stream",
     "name": "stdout",
     "text": "13 <class 'int'>\n"
    }
   ],
   "source": [
    "# 1 + 4 + 8 = 13\n",
    "my_value3 = int(\"1101\", base=2)\n",
    "print(my_value3, type(my_value3))"
   ]
  },
  {
   "cell_type": "code",
   "execution_count": 8,
   "metadata": {},
   "outputs": [
    {
     "output_type": "stream",
     "name": "stdout",
     "text": "255 <class 'int'>\n"
    }
   ],
   "source": [
    "# 16 + 16*16 = 255\n",
    "my_value4 = int(\"ff\", base=16)\n",
    "print(my_value4, type(my_value4))"
   ]
  },
  {
   "cell_type": "code",
   "execution_count": 10,
   "metadata": {},
   "outputs": [
    {
     "output_type": "stream",
     "name": "stdout",
     "text": "63 <class 'int'>\n"
    }
   ],
   "source": [
    "my_value5 = int(\"77\", base=8)\n",
    "print(my_value5, type(my_value5))"
   ]
  },
  {
   "cell_type": "code",
   "execution_count": 16,
   "metadata": {},
   "outputs": [
    {
     "output_type": "stream",
     "name": "stdout",
     "text": "42\n42\n42\n42\n"
    }
   ],
   "source": [
    "my_value6 = int(\"0b101010\", base=0)\n",
    "print(my_value6)\n",
    "\n",
    "my_value7 = int(\"0x2a\", base=0)\n",
    "print(my_value7)\n",
    "\n",
    "my_value8 = 0b101010\n",
    "print(my_value8)\n",
    "my_value9 = 0x2a\n",
    "print(my_value9)"
   ]
  },
  {
   "cell_type": "code",
   "execution_count": 11,
   "metadata": {},
   "outputs": [
    {
     "output_type": "stream",
     "name": "stdout",
     "text": "0b101010 <class 'str'>\n0o52 <class 'str'>\n0x2a <class 'str'>\n"
    }
   ],
   "source": [
    "my_int_value = 42\n",
    "print(bin(my_int_value), type(bin(my_int_value)))\n",
    "print(oct(my_int_value), type(oct(my_int_value)))\n",
    "print(hex(my_int_value), type(hex(my_int_value)))"
   ]
  }
 ]
}