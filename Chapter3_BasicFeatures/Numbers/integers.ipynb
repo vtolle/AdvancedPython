{
 "nbformat": 4,
 "nbformat_minor": 2,
 "metadata": {
  "language_info": {
   "name": "python",
   "codemirror_mode": {
    "name": "ipython",
    "version": 3
   },
   "version": "3.8.1-final"
  },
  "orig_nbformat": 2,
  "file_extension": ".py",
  "mimetype": "text/x-python",
  "name": "python",
  "npconvert_exporter": "python",
  "pygments_lexer": "ipython3",
  "version": 3,
  "kernelspec": {
   "name": "python38164bitpyudemyconda8c705f49a8e643418ce4b1ca64c8ab63",
   "display_name": "Python 3.8.1 64-bit ('pyUdemy': conda)"
  }
 },
 "cells": [
  {
   "cell_type": "code",
   "execution_count": 6,
   "metadata": {},
   "outputs": [
    {
     "output_type": "stream",
     "name": "stdout",
     "text": "<class 'int'>\nIt is an integer!\n"
    }
   ],
   "source": [
    "# C/C++/Jave: int (32bit/8Byte) -2MRD, +2MRD\n",
    "# The python int object type uses a variable number of bits\n",
    "\n",
    "my_value = 42\n",
    "print(type(my_value))\n",
    "\n",
    "if isinstance(my_value, int):\n",
    "    print(\"It is an integer!\")"
   ]
  },
  {
   "cell_type": "code",
   "execution_count": 7,
   "metadata": {},
   "outputs": [
    {
     "output_type": "stream",
     "name": "stdout",
     "text": "28\n"
    }
   ],
   "source": [
    "import sys\n",
    "\n",
    "print(sys.getsizeof(my_value))"
   ]
  },
  {
   "cell_type": "code",
   "execution_count": 28,
   "metadata": {},
   "outputs": [
    {
     "output_type": "stream",
     "name": "stdout",
     "text": "24\n28\n28\n32\n"
    }
   ],
   "source": [
    "my_var = 0\n",
    "print(sys.getsizeof(my_var))\n",
    "my_var = 1\n",
    "print(sys.getsizeof(my_var))\n",
    "my_var = 2**29\n",
    "print(sys.getsizeof(my_var))\n",
    "my_var = 2**33\n",
    "print(sys.getsizeof(my_var))"
   ]
  },
  {
   "cell_type": "code",
   "execution_count": 30,
   "metadata": {},
   "outputs": [
    {
     "output_type": "stream",
     "name": "stdout",
     "text": "2.0 <class 'float'>\n15 <class 'int'>\n5 <class 'int'>\n50 <class 'int'>\n"
    }
   ],
   "source": [
    "# Arithmetic Operations\n",
    "# The division of (int / int) => float\n",
    "# For the other operations (int + int) => int\n",
    "\n",
    "result = 10 / 5\n",
    "print(result, type(result))\n",
    "\n",
    "result = 10 + 5\n",
    "print(result, type(result))\n",
    "\n",
    "result = 10 - 5\n",
    "print(result, type(result))\n",
    "\n",
    "result = 10 * 5\n",
    "print(result, type(result))"
   ]
  },
  {
   "cell_type": "code",
   "execution_count": 35,
   "metadata": {},
   "outputs": [
    {
     "output_type": "stream",
     "name": "stdout",
     "text": "2 <class 'int'>\n0\n1\n2\n3\n4\n"
    }
   ],
   "source": [
    "# Integer Division\n",
    "result = 10 // 5\n",
    "print(result, type(result))\n",
    "\n",
    "num_iters = 10\n",
    "for i in range(num_iters//2):\n",
    "    print(i)"
   ]
  },
  {
   "cell_type": "code",
   "execution_count": 38,
   "metadata": {},
   "outputs": [
    {
     "output_type": "stream",
     "name": "stdout",
     "text": "3.3333333333333335\n3\n1\n"
    }
   ],
   "source": [
    "result = 10 / 3\n",
    "print(result)\n",
    "\n",
    "integer_div_result = 10 // 3\n",
    "remainder_div_result = 10 % 3\n",
    "\n",
    "print(integer_div_result)\n",
    "print(remainder_div_result)"
   ]
  },
  {
   "cell_type": "code",
   "execution_count": 40,
   "metadata": {},
   "outputs": [
    {
     "output_type": "stream",
     "name": "stdout",
     "text": "2\n2\n3\n"
    }
   ],
   "source": [
    "import math\n",
    "\n",
    "my_value = 2.5\n",
    "print(int(my_value))\n",
    "print(math.floor(my_value))\n",
    "print(math.ceil(my_value))"
   ]
  },
  {
   "cell_type": "code",
   "execution_count": 41,
   "metadata": {},
   "outputs": [
    {
     "output_type": "stream",
     "name": "stdout",
     "text": "-2\n-3\n-2\n"
    }
   ],
   "source": [
    "my_value = -2.5\n",
    "print(int(my_value))\n",
    "print(math.floor(my_value))\n",
    "print(math.ceil(my_value))"
   ]
  }
 ]
}