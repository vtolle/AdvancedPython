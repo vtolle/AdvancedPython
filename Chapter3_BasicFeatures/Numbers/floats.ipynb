{
 "nbformat": 4,
 "nbformat_minor": 2,
 "metadata": {
  "language_info": {
   "name": "python",
   "codemirror_mode": {
    "name": "ipython",
    "version": 3
   },
   "version": "3.8.1-final"
  },
  "orig_nbformat": 2,
  "file_extension": ".py",
  "mimetype": "text/x-python",
  "name": "python",
  "npconvert_exporter": "python",
  "pygments_lexer": "ipython3",
  "version": 3,
  "kernelspec": {
   "name": "python38164bitpyudemyconda8c705f49a8e643418ce4b1ca64c8ab63",
   "display_name": "Python 3.8.1 64-bit ('pyUdemy': conda)"
  }
 },
 "cells": [
  {
   "cell_type": "code",
   "execution_count": 11,
   "metadata": {},
   "outputs": [
    {
     "output_type": "stream",
     "name": "stdout",
     "text": "0.00004199999999999999767590422306\n"
    }
   ],
   "source": [
    "# Float, Double\n",
    "# Floats in a computer: rational numbers\n",
    "# Floats in python: fixed size (64bits = 8Byte)\n",
    "\n",
    "# sign: 1bit\n",
    "# exponent: 11bits\n",
    "# significant bits: 52bits\n",
    "\n",
    "my_value = 42e-06 # 42 * 10^-1\n",
    "print('{:.32f}'.format(my_value))"
   ]
  },
  {
   "cell_type": "code",
   "execution_count": 14,
   "metadata": {},
   "outputs": [
    {
     "output_type": "stream",
     "name": "stdout",
     "text": "42.10000000000000142108547152020037 <class 'float'>\n42.10000000000000142108547152020037 <class 'float'>\n"
    }
   ],
   "source": [
    "my_value2 = 42.1\n",
    "print('{:.32f}'.format(my_value2), type(my_value2))\n",
    "\n",
    "my_value3 = float(\"42.1\")\n",
    "print('{:.32f}'.format(my_value3), type(my_value3))"
   ]
  },
  {
   "cell_type": "code",
   "execution_count": 16,
   "metadata": {},
   "outputs": [],
   "source": [
    "# my_value4 = float(\"13/3\")"
   ]
  },
  {
   "cell_type": "code",
   "execution_count": 35,
   "metadata": {},
   "outputs": [
    {
     "output_type": "stream",
     "name": "stdout",
     "text": "0.01000000000000000020816681711722 <class 'float'>\n0.30000000000000004440892098500626 <class 'float'>\n0.10000000000000000555111512312578 <class 'float'>\n0.29999999999999998889776975374843 <class 'float'>\nFalse\n0.50000000000000000000000000000000 <class 'float'>\n"
    }
   ],
   "source": [
    "my_fraction = 1 / 100\n",
    "print('{:.32f}'.format(my_fraction), type(my_fraction))\n",
    "\n",
    "my_addition = 1 / 10 + 1 / 10 + 1 / 10\n",
    "print('{:.32f}'.format(my_addition), type(my_addition))\n",
    "\n",
    "print('{:.32f}'.format(0.1), type(0.1))\n",
    "print('{:.32f}'.format(0.3), type(0.3))\n",
    "\n",
    "print(my_addition == 0.3)\n",
    "\n",
    "print('{:.32f}'.format(0.5), type(0.5))"
   ]
  }
 ]
}