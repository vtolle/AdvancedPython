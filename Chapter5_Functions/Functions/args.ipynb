{
 "nbformat": 4,
 "nbformat_minor": 2,
 "metadata": {
  "language_info": {
   "name": "python",
   "codemirror_mode": {
    "name": "ipython",
    "version": 3
   },
   "version": "3.8.1-final"
  },
  "orig_nbformat": 2,
  "file_extension": ".py",
  "mimetype": "text/x-python",
  "name": "python",
  "npconvert_exporter": "python",
  "pygments_lexer": "ipython3",
  "version": 3,
  "kernelspec": {
   "name": "python38164bitpyudemyconda8c705f49a8e643418ce4b1ca64c8ab63",
   "display_name": "Python 3.8.1 64-bit ('pyUdemy': conda)"
  }
 },
 "cells": [
  {
   "cell_type": "code",
   "execution_count": 3,
   "metadata": {},
   "outputs": [],
   "source": [
    "def my_function(a, b, c=10, d=12, e=13):\n",
    "    print('a: {}, b: {}, c: {}, d: {}, e:{}'.format(a, b, c, d, e))"
   ]
  },
  {
   "cell_type": "code",
   "execution_count": 5,
   "metadata": {},
   "outputs": [
    {
     "output_type": "stream",
     "name": "stdout",
     "text": "a: 1, b: 2, c: 10, d: 12, e:13\n"
    }
   ],
   "source": [
    "my_function(1, 2)"
   ]
  },
  {
   "cell_type": "code",
   "execution_count": 6,
   "metadata": {},
   "outputs": [],
   "source": [
    "# *args: variable number of pos. arguments"
   ]
  },
  {
   "cell_type": "code",
   "execution_count": 14,
   "metadata": {},
   "outputs": [
    {
     "output_type": "stream",
     "name": "stdout",
     "text": "3 4 <class 'tuple'>\na: 1, b: 2, args: (3, 4)\n"
    }
   ],
   "source": [
    "def my_function2(a, b, *args):\n",
    "    print(*args, type(args))\n",
    "    print('a: {}, b: {}, args: {}'.format(a, b, args))\n",
    "\n",
    "my_function2(1, 2, 3, 4)"
   ]
  },
  {
   "cell_type": "code",
   "execution_count": 15,
   "metadata": {},
   "outputs": [
    {
     "output_type": "stream",
     "name": "stdout",
     "text": "3 4 <class 'tuple'>\na: 1, b: 2, args: (3, 4)\n"
    }
   ],
   "source": [
    "def my_function3(*args):\n",
    "    print(*args, type(args))\n",
    "    print('args: {}'.format(args))\n",
    "\n",
    "my_function2(1, 2, 3, 4)"
   ]
  },
  {
   "cell_type": "code",
   "execution_count": 21,
   "metadata": {},
   "outputs": [
    {
     "output_type": "error",
     "ename": "SyntaxError",
     "evalue": "positional argument follows keyword argument (<ipython-input-21-8fcbf2da1b2e>, line 5)",
     "traceback": [
      "\u001b[1;36m  File \u001b[1;32m\"<ipython-input-21-8fcbf2da1b2e>\"\u001b[1;36m, line \u001b[1;32m5\u001b[0m\n\u001b[1;33m    my_function4(1, b=2, 3, 4)\u001b[0m\n\u001b[1;37m                         ^\u001b[0m\n\u001b[1;31mSyntaxError\u001b[0m\u001b[1;31m:\u001b[0m positional argument follows keyword argument\n"
     ]
    }
   ],
   "source": [
    "# NORMAL ARGS; *ARGS; DEFAULT ARGS\n",
    "def my_function4(a, *args, b=None):\n",
    "    print(*args, type(args))\n",
    "    print('a: {}, b: {}, args: {}'.format(a, b, args))\n",
    "\n",
    "my_function4(1, b=2, 3, 4)"
   ]
  }
 ]
}