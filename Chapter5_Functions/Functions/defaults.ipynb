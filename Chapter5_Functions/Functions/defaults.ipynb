{
 "nbformat": 4,
 "nbformat_minor": 2,
 "metadata": {
  "language_info": {
   "name": "python",
   "codemirror_mode": {
    "name": "ipython",
    "version": 3
   },
   "version": "3.8.1-final"
  },
  "orig_nbformat": 2,
  "file_extension": ".py",
  "mimetype": "text/x-python",
  "name": "python",
  "npconvert_exporter": "python",
  "pygments_lexer": "ipython3",
  "version": 3,
  "kernelspec": {
   "name": "python38164bitpyudemyconda8c705f49a8e643418ce4b1ca64c8ab63",
   "display_name": "Python 3.8.1 64-bit ('pyUdemy': conda)"
  }
 },
 "cells": [
  {
   "cell_type": "code",
   "execution_count": 2,
   "metadata": {},
   "outputs": [],
   "source": [
    "# a, b: parameters\n",
    "def my_function(a, b):\n",
    "    print(a, b)"
   ]
  },
  {
   "cell_type": "code",
   "execution_count": 3,
   "metadata": {},
   "outputs": [
    {
     "output_type": "stream",
     "name": "stdout",
     "text": "2 3\n"
    }
   ],
   "source": [
    "# x, y: arguments\n",
    "x = 2\n",
    "y = 3\n",
    "my_function(x, y)"
   ]
  },
  {
   "cell_type": "code",
   "execution_count": 7,
   "metadata": {},
   "outputs": [],
   "source": [
    "def my_function2(a, b=None):\n",
    "    print(a)\n",
    "    print(b)"
   ]
  },
  {
   "cell_type": "code",
   "execution_count": 9,
   "metadata": {},
   "outputs": [
    {
     "output_type": "stream",
     "name": "stdout",
     "text": "2\n3\n"
    }
   ],
   "source": [
    "x = 2\n",
    "y = 3\n",
    "my_function2(x, y)"
   ]
  },
  {
   "cell_type": "code",
   "execution_count": 17,
   "metadata": {},
   "outputs": [],
   "source": [
    "# Params, Default Params\n",
    "def my_function3(p1, p2, d1=10, d2=None):\n",
    "    print('p1: {0}, p2: {1}, d1: {2}, d2: {3}'.format(p1, p2, d1, d2))"
   ]
  },
  {
   "cell_type": "code",
   "execution_count": 24,
   "metadata": {},
   "outputs": [
    {
     "output_type": "stream",
     "name": "stdout",
     "text": "p1: 10, p2: 20, d1: 40, d2: 42\n"
    }
   ],
   "source": [
    "my_function3(10, 20, d1=40, d2=42)"
   ]
  },
  {
   "cell_type": "code",
   "execution_count": 26,
   "metadata": {},
   "outputs": [
    {
     "output_type": "stream",
     "name": "stdout",
     "text": "p1: 10, p2: 20, d1: 10, d2: None\nNone\n"
    }
   ],
   "source": [
    "return_value = my_function3(10, 20)\n",
    "print(return_value)"
   ]
  },
  {
   "cell_type": "code",
   "execution_count": 27,
   "metadata": {},
   "outputs": [
    {
     "output_type": "stream",
     "name": "stdout",
     "text": "None\n"
    }
   ],
   "source": [
    "def append_list(my_list, value):\n",
    "    my_list.append(value)\n",
    "\n",
    "l = [1, 2]\n",
    "l = append_list(l, 3)\n",
    "print(l)"
   ]
  }
 ]
}