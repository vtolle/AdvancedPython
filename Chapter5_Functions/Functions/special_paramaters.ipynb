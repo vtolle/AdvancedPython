{
 "cells": [
  {
   "cell_type": "markdown",
   "metadata": {},
   "source": [
    "https://docs.python.org/dev/tutorial/controlflow.html#special-parameters"
   ]
  },
  {
   "cell_type": "code",
   "execution_count": 2,
   "metadata": {},
   "outputs": [
    {
     "output_type": "stream",
     "name": "stdout",
     "text": "2\n2\n"
    }
   ],
   "source": [
    "# If / and * are not present in the function definition, arguments may be passed to a function by position or by keyword\n",
    "def standard_arg(a):\n",
    "    print(a)\n",
    "\n",
    "standard_arg(2)\n",
    "standard_arg(a=2)"
   ]
  },
  {
   "cell_type": "code",
   "execution_count": 6,
   "metadata": {},
   "outputs": [
    {
     "output_type": "stream",
     "name": "stdout",
     "text": "1\n5\n"
    }
   ],
   "source": [
    "# If positional-only, the parameters’ order matters, and the parameters cannot be passed by keyword. Positional-only parameters are placed before a / (forward-slash). \n",
    "# Use positional-only if you want the name of the parameters to not be available to the user\n",
    "def pos_only_arg(a, /):\n",
    "    print(a)\n",
    "\n",
    "my_val = 5\n",
    "pos_only_arg(1)\n",
    "pos_only_arg(my_val)\n",
    "#pos_only_arg(a=1)"
   ]
  },
  {
   "cell_type": "code",
   "execution_count": 8,
   "metadata": {},
   "outputs": [
    {
     "output_type": "stream",
     "name": "stdout",
     "text": "3\n"
    }
   ],
   "source": [
    "# To mark parameters as keyword-only, indicating the parameters must be passed by keyword argument, place an * in the arguments list just before the first keyword-only parameter.\n",
    "# Use keyword-only when names have meaning and the function definition is more understandable by  being explicit with names\n",
    "def kwd_only_arg(*, a):\n",
    "    print(a)\n",
    "\n",
    "kwd_only_arg(a=3)\n",
    "#kwd_only_arg(3)"
   ]
  },
  {
   "cell_type": "code",
   "execution_count": 14,
   "metadata": {},
   "outputs": [
    {
     "output_type": "stream",
     "name": "stdout",
     "text": "1 2 3\n"
    }
   ],
   "source": [
    "def combined_example(a, /, b, *, c):\n",
    "    print(a, b, c)\n",
    "\n",
    "#combined_example(1, 2, 3)\n",
    "#combined_example(1, 2, c=3)\n",
    "#combined_example(1, b=2, c=3)\n",
    "combined_example(a=1, b=2, c=3)"
   ]
  },
  {
   "cell_type": "code",
   "execution_count": 17,
   "metadata": {},
   "outputs": [
    {
     "output_type": "stream",
     "name": "stdout",
     "text": "1 2 (3,) {}\n1 2 () {'c': 3}\n1 2 () {'c': 3}\n1 2 () {'c': 3}\n"
    }
   ],
   "source": [
    "def other_example(a, b, *args, **kwargs):\n",
    "    print(a, b, args, kwargs)\n",
    "\n",
    "other_example(1, 2, 3)\n",
    "other_example(1, 2, c=3)\n",
    "other_example(1, b=2, c=3)\n",
    "other_example(a=1, b=2, c=3)\n",
    "#other_example(a=1, c=3, 2)"
   ]
  }
 ],
 "metadata": {
  "language_info": {
   "name": "python",
   "codemirror_mode": {
    "name": "ipython",
    "version": 3
   },
   "version": "3.8.1-final"
  },
  "orig_nbformat": 2,
  "file_extension": ".py",
  "mimetype": "text/x-python",
  "name": "python",
  "npconvert_exporter": "python",
  "pygments_lexer": "ipython3",
  "version": 3,
  "kernelspec": {
   "name": "python38164bitpyudemyconda8c705f49a8e643418ce4b1ca64c8ab63",
   "display_name": "Python 3.8.1 64-bit ('pyUdemy': conda)"
  }
 },
 "nbformat": 4,
 "nbformat_minor": 2
}