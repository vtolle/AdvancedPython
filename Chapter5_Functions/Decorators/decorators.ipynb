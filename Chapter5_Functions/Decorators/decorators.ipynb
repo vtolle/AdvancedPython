{
 "nbformat": 4,
 "nbformat_minor": 2,
 "metadata": {
  "language_info": {
   "name": "python",
   "codemirror_mode": {
    "name": "ipython",
    "version": 3
   },
   "version": "3.8.1-final"
  },
  "orig_nbformat": 2,
  "file_extension": ".py",
  "mimetype": "text/x-python",
  "name": "python",
  "npconvert_exporter": "python",
  "pygments_lexer": "ipython3",
  "version": 3,
  "kernelspec": {
   "name": "python38164bitpyudemyconda8c705f49a8e643418ce4b1ca64c8ab63",
   "display_name": "Python 3.8.1 64-bit ('pyUdemy': conda)"
  }
 },
 "cells": [
  {
   "cell_type": "code",
   "execution_count": 17,
   "metadata": {},
   "outputs": [],
   "source": [
    "# Decorators:\n",
    "# - wraps a function by another function\n",
    "# - takes a function as an argument, returns a closure\n",
    "# - the clousure runs the previous passed in function with the *args and **kwargs arguments"
   ]
  },
  {
   "cell_type": "code",
   "execution_count": 18,
   "metadata": {},
   "outputs": [],
   "source": [
    "def outer_fn(fn):\n",
    "    def inner_fn():\n",
    "        fn_result = fn()\n",
    "        return fn_result\n",
    "    return inner_fn"
   ]
  },
  {
   "cell_type": "code",
   "execution_count": 19,
   "metadata": {},
   "outputs": [],
   "source": [
    "def print_hello_world():\n",
    "    print(\"Hello World!\")"
   ]
  },
  {
   "cell_type": "code",
   "execution_count": 20,
   "metadata": {},
   "outputs": [
    {
     "output_type": "stream",
     "name": "stdout",
     "text": "Hello World!\n"
    }
   ],
   "source": [
    "decorated_print_hello_world = outer_fn(print_hello_world)\n",
    "decorated_print_hello_world()"
   ]
  },
  {
   "cell_type": "code",
   "execution_count": 21,
   "metadata": {},
   "outputs": [],
   "source": [
    "def decorator(fn):\n",
    "    print(\"Start decorator function from: \", fn.__name__)\n",
    "    def wrapper(*args, **kwargs):\n",
    "        print(\"Start wrapper function from: \", fn.__name__)\n",
    "        fn_result = fn(*args, **kwargs)\n",
    "        print(\"End wrapper function from: \", fn.__name__)\n",
    "        return fn_result\n",
    "    print(\"End decorator function from: \", fn.__name__)\n",
    "    return wrapper"
   ]
  },
  {
   "cell_type": "code",
   "execution_count": 22,
   "metadata": {},
   "outputs": [
    {
     "output_type": "stream",
     "name": "stdout",
     "text": "Start decorator function from:  print_hello_world\nEnd decorator function from:  print_hello_world\nStart wrapper function from:  print_hello_world\nHello World!\nEnd wrapper function from:  print_hello_world\n"
    }
   ],
   "source": [
    "decorated_print_hello_world2 = decorator(print_hello_world)\n",
    "decorated_print_hello_world2()"
   ]
  },
  {
   "cell_type": "code",
   "execution_count": 23,
   "metadata": {},
   "outputs": [],
   "source": [
    "def print_arguments(a, b, c=None):\n",
    "    print(\"a: {}, b: {}, c: {}\".format(a, b, c))"
   ]
  },
  {
   "cell_type": "code",
   "execution_count": 24,
   "metadata": {},
   "outputs": [
    {
     "output_type": "stream",
     "name": "stdout",
     "text": "Start decorator function from:  print_arguments\nEnd decorator function from:  print_arguments\nStart wrapper function from:  print_arguments\na: 10, b: 20, c: 30\nEnd wrapper function from:  print_arguments\nStart wrapper function from:  print_arguments\na: 11, b: 21, c: 31\nEnd wrapper function from:  print_arguments\n"
    }
   ],
   "source": [
    "decorated_print_arguments = decorator(print_arguments)\n",
    "decorated_print_arguments(a=10, b=20, c=30)\n",
    "decorated_print_arguments(a=11, b=21, c=31)"
   ]
  },
  {
   "cell_type": "code",
   "execution_count": 25,
   "metadata": {},
   "outputs": [
    {
     "output_type": "stream",
     "name": "stdout",
     "text": "Start decorator function from:  print_arguments2\nEnd decorator function from:  print_arguments2\n"
    }
   ],
   "source": [
    "@decorator\n",
    "def print_arguments2(a, b, c=None):\n",
    "    print(\"a: {}, b: {}, c: {}\".format(a, b, c))"
   ]
  },
  {
   "cell_type": "code",
   "execution_count": 26,
   "metadata": {},
   "outputs": [
    {
     "output_type": "stream",
     "name": "stdout",
     "text": "Start wrapper function from:  print_arguments2\na: 10, b: 20, c: 30\nEnd wrapper function from:  print_arguments2\n"
    }
   ],
   "source": [
    "print_arguments2(a=10, b=20, c=30)"
   ]
  }
 ]
}