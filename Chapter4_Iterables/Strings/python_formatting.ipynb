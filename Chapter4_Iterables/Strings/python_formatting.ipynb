{
 "nbformat": 4,
 "nbformat_minor": 2,
 "metadata": {
  "language_info": {
   "name": "python",
   "codemirror_mode": {
    "name": "ipython",
    "version": 3
   },
   "version": "3.8.1-final"
  },
  "orig_nbformat": 2,
  "file_extension": ".py",
  "mimetype": "text/x-python",
  "name": "python",
  "npconvert_exporter": "python",
  "pygments_lexer": "ipython3",
  "version": 3,
  "kernelspec": {
   "name": "python38164bitpyudemyconda8c705f49a8e643418ce4b1ca64c8ab63",
   "display_name": "Python 3.8.1 64-bit ('pyUdemy': conda)"
  }
 },
 "cells": [
  {
   "cell_type": "code",
   "execution_count": 4,
   "metadata": {},
   "outputs": [
    {
     "output_type": "stream",
     "name": "stdout",
     "text": "Hello my name is Jan Schaffranek, nice to meet you. Today is the 14.04.2020.\n"
    }
   ],
   "source": [
    "my_template = \"Hello my name is Jan Schaffranek, nice to meet you. Today is the 14.04.2020.\"\n",
    "\n",
    "print(my_template)"
   ]
  },
  {
   "cell_type": "code",
   "execution_count": 7,
   "metadata": {},
   "outputs": [],
   "source": [
    "def say_hello(firstname, lastname, date):\n",
    "    my_output_str = \"Hello my name is \" + str(firstname) + \\\n",
    "                    \" \" + str(lastname) + \", nice to meet you. Today is the \" + date\n",
    "    print(my_output_str)"
   ]
  },
  {
   "cell_type": "code",
   "execution_count": 8,
   "metadata": {},
   "outputs": [
    {
     "output_type": "stream",
     "name": "stdout",
     "text": "Hello my name is Jan Schaffranek, nice to meet you. Today is the 14.04.2020\n"
    }
   ],
   "source": [
    "firstname = 'Jan'\n",
    "lastname = 'Schaffranek'\n",
    "date = '14.04.2020'\n",
    "\n",
    "say_hello(firstname, lastname, date)"
   ]
  },
  {
   "cell_type": "markdown",
   "metadata": {},
   "source": [
    "%s = String\n",
    "%d = Integer\n",
    "%e, %f = Float\n",
    "%r = Lists etc.\n",
    "%x = Hexa\n",
    "%o = Octa"
   ]
  },
  {
   "cell_type": "code",
   "execution_count": 13,
   "metadata": {},
   "outputs": [],
   "source": [
    "def say_hello_old_format(firstname, lastname, date):\n",
    "    my_output_str = \"Hello my name is %s %s, nice to meet you. Today is the %s\" % (firstname, lastname, date)\n",
    "    print(my_output_str)"
   ]
  },
  {
   "cell_type": "code",
   "execution_count": 16,
   "metadata": {},
   "outputs": [
    {
     "output_type": "stream",
     "name": "stdout",
     "text": "Hello my name is Jan Schaffranek, nice to meet you. Today is the 14.04.2020\n"
    }
   ],
   "source": [
    "firstname = 'Jan'\n",
    "lastname = 'Schaffranek'\n",
    "date = '14.04.2020'\n",
    "\n",
    "say_hello_old_format(firstname, lastname, date)"
   ]
  },
  {
   "cell_type": "code",
   "execution_count": 24,
   "metadata": {},
   "outputs": [],
   "source": [
    "def say_hello_new_format(firstname, lastname, date):\n",
    "    my_output_str = \"Hello my name is {0} {1}, nice to meet you. Today is the {2}\".format(firstname, lastname, date)\n",
    "    print(my_output_str)"
   ]
  },
  {
   "cell_type": "code",
   "execution_count": 41,
   "metadata": {},
   "outputs": [
    {
     "output_type": "stream",
     "name": "stdout",
     "text": "Hello my name is Jan Schaffranek, nice to meet you. Today is the 14.04.2020\n"
    }
   ],
   "source": [
    "from datetime import datetime\n",
    "\n",
    "firstname = 'Jan'\n",
    "lastname = 'Schaffranek'\n",
    "date = datetime.now()\n",
    "date = '{:%d.%m.%Y}'.format(date)\n",
    "\n",
    "say_hello_new_format(firstname, lastname, date)"
   ]
  },
  {
   "cell_type": "code",
   "execution_count": 32,
   "metadata": {},
   "outputs": [
    {
     "output_type": "stream",
     "name": "stdout",
     "text": "10.1\n10.09999999999999964472863211994991\n"
    }
   ],
   "source": [
    "my_number = 10.1\n",
    "\n",
    "print(my_number)\n",
    "\n",
    "print(\"{:.32f}\".format(my_number))"
   ]
  }
 ]
}