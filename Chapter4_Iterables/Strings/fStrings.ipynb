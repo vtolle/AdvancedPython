{
 "nbformat": 4,
 "nbformat_minor": 2,
 "metadata": {
  "language_info": {
   "name": "python",
   "codemirror_mode": {
    "name": "ipython",
    "version": 3
   },
   "version": "3.8.1-final"
  },
  "orig_nbformat": 2,
  "file_extension": ".py",
  "mimetype": "text/x-python",
  "name": "python",
  "npconvert_exporter": "python",
  "pygments_lexer": "ipython3",
  "version": 3,
  "kernelspec": {
   "name": "python38164bitpyudemyconda8c705f49a8e643418ce4b1ca64c8ab63",
   "display_name": "Python 3.8.1 64-bit ('pyUdemy': conda)"
  }
 },
 "cells": [
  {
   "cell_type": "code",
   "execution_count": 1,
   "metadata": {},
   "outputs": [
    {
     "output_type": "stream",
     "name": "stdout",
     "text": "Hello my name is Peter Peterson\n"
    }
   ],
   "source": [
    "firstname = 'Peter'\n",
    "lastname = 'Peterson'\n",
    "\n",
    "my_str = \"Hello my name is {0} {1}\".format(firstname, lastname)\n",
    "\n",
    "print(my_str)"
   ]
  },
  {
   "cell_type": "code",
   "execution_count": 2,
   "metadata": {},
   "outputs": [],
   "source": [
    "user_table = {1: 'Peter Peterson', 2: 'Jan Schaffranek'}\n",
    "\n",
    "def get_user_name(user_id):\n",
    "    if user_id in user_table:\n",
    "        return user_table[user_id]"
   ]
  },
  {
   "cell_type": "code",
   "execution_count": 7,
   "metadata": {},
   "outputs": [
    {
     "output_type": "stream",
     "name": "stdout",
     "text": "Hello my name is Peter Peterson\n"
    }
   ],
   "source": [
    "user_id = 1\n",
    "my_str = f\"Hello my name is {get_user_name(user_id)}\"\n",
    "\n",
    "print(my_str)"
   ]
  },
  {
   "cell_type": "code",
   "execution_count": 11,
   "metadata": {},
   "outputs": [
    {
     "output_type": "stream",
     "name": "stdout",
     "text": "text...1..text\ntext...2..text\n"
    }
   ],
   "source": [
    "my_list = [1, 2, 3]\n",
    "my_dict = {'jan': 2, 'peter': 3}\n",
    "\n",
    "my_str2 = f\"text...{my_list[0]}..text\"\n",
    "print(my_str2)\n",
    "\n",
    "my_str3 = f\"text...{my_dict['jan']}..text\"\n",
    "print(my_str3)"
   ]
  }
 ]
}