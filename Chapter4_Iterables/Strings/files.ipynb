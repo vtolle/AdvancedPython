{
 "nbformat": 4,
 "nbformat_minor": 2,
 "metadata": {
  "language_info": {
   "name": "python",
   "codemirror_mode": {
    "name": "ipython",
    "version": 3
   },
   "version": "3.8.1-final"
  },
  "orig_nbformat": 2,
  "file_extension": ".py",
  "mimetype": "text/x-python",
  "name": "python",
  "npconvert_exporter": "python",
  "pygments_lexer": "ipython3",
  "version": 3,
  "kernelspec": {
   "name": "python38164bitpyudemyconda8c705f49a8e643418ce4b1ca64c8ab63",
   "display_name": "Python 3.8.1 64-bit ('pyUdemy': conda)"
  }
 },
 "cells": [
  {
   "cell_type": "code",
   "execution_count": 7,
   "metadata": {},
   "outputs": [
    {
     "output_type": "stream",
     "name": "stdout",
     "text": "C:\\Users\\Jan\\Dropbox\\_Programmieren\\UdemyPythonKurs\\Chapter4_Iterables\\Strings\\user_data.txt\n"
    }
   ],
   "source": [
    "import os\n",
    "\n",
    "project_path = os.path.abspath(\"C:/Users/Jan/Dropbox/_Programmieren/UdemyPythonKurs/\")\n",
    "file_path = os.path.join(project_path, \"Chapter4_Iterables\", \"Strings\", \"user_data.txt\")\n",
    "\n",
    "print(file_path)"
   ]
  },
  {
   "cell_type": "code",
   "execution_count": 19,
   "metadata": {},
   "outputs": [
    {
     "output_type": "stream",
     "name": "stdout",
     "text": "<_io.TextIOWrapper name='C:\\\\Users\\\\Jan\\\\Dropbox\\\\_Programmieren\\\\UdemyPythonKurs\\\\Chapter4_Iterables\\\\Strings\\\\user_data.txt' mode='r' encoding='cp1252'> <class '_io.TextIOWrapper'>\n['Hello my name is Jan.\\n', 'Nice to meet you.\\n', 'I am currently 26 years old.']\n['Hello my name is Jan.', 'Nice to meet you.', 'I am currently 26 years old.']\n"
    }
   ],
   "source": [
    "with open(file_path, \"r\") as f:\n",
    "    content = f.readlines()\n",
    "\n",
    "print(f, type(f))\n",
    "\n",
    "print(content)\n",
    "for idx, line in enumerate(content):\n",
    "    content[idx] = line.replace(\"\\n\", \"\")\n",
    "print(content)"
   ]
  },
  {
   "cell_type": "code",
   "execution_count": 22,
   "metadata": {},
   "outputs": [
    {
     "output_type": "stream",
     "name": "stdout",
     "text": "26 <class 'str'>\n26 <class 'int'>\n"
    }
   ],
   "source": [
    "user_input = input(\"Please enter your age: \")\n",
    "print(user_input, type(user_input))\n",
    "user_age = int(user_input)\n",
    "print(user_age, type(user_age))"
   ]
  }
 ]
}