{
 "nbformat": 4,
 "nbformat_minor": 2,
 "metadata": {
  "language_info": {
   "name": "python",
   "codemirror_mode": {
    "name": "ipython",
    "version": 3
   },
   "version": "3.8.1-final"
  },
  "orig_nbformat": 2,
  "file_extension": ".py",
  "mimetype": "text/x-python",
  "name": "python",
  "npconvert_exporter": "python",
  "pygments_lexer": "ipython3",
  "version": 3,
  "kernelspec": {
   "name": "python38164bitpyudemyconda8c705f49a8e643418ce4b1ca64c8ab63",
   "display_name": "Python 3.8.1 64-bit ('pyUdemy': conda)"
  }
 },
 "cells": [
  {
   "cell_type": "code",
   "execution_count": 42,
   "metadata": {},
   "outputs": [
    {
     "output_type": "stream",
     "name": "stdout",
     "text": "dddJan Maximilian Schaffranekddd <class 'str'>\nDennis Berthold <class 'str'>\n"
    }
   ],
   "source": [
    "my_name = 'dddJan Maximilian Schaffranekddd'\n",
    "your_name = \"Dennis Berthold\"\n",
    "\n",
    "print(my_name, type(my_name))\n",
    "print(your_name, type(your_name))"
   ]
  },
  {
   "cell_type": "code",
   "execution_count": 43,
   "metadata": {},
   "outputs": [
    {
     "output_type": "stream",
     "name": "stdout",
     "text": "Dddjan maximilian schaffranekddd\ndddjan maximilian schaffranekddd\n"
    }
   ],
   "source": [
    "print(my_name.capitalize())\n",
    "print(my_name.lower())"
   ]
  },
  {
   "cell_type": "code",
   "execution_count": 44,
   "metadata": {},
   "outputs": [
    {
     "output_type": "stream",
     "name": "stdout",
     "text": "['dddJan', 'Maximilian', 'Schaffranekddd']\n"
    }
   ],
   "source": [
    "word_list = my_name.split(' ')\n",
    "\n",
    "print(word_list)"
   ]
  },
  {
   "cell_type": "code",
   "execution_count": 45,
   "metadata": {},
   "outputs": [
    {
     "output_type": "stream",
     "name": "stdout",
     "text": "Jan Maximilian Schaffranek\n['Jan', 'Maximilian', 'Schaffranek']\n"
    }
   ],
   "source": [
    "my_name_modified = my_name.strip('d')\n",
    "\n",
    "print(my_name_modified)\n",
    "\n",
    "word_list = my_name_modified.split(' ')\n",
    "\n",
    "print(word_list)"
   ]
  },
  {
   "cell_type": "code",
   "execution_count": 46,
   "metadata": {},
   "outputs": [
    {
     "output_type": "stream",
     "name": "stdout",
     "text": "JAN MAXIMILIAN SCHAFFRANEK\n"
    }
   ],
   "source": [
    "print(my_name_modified.upper())"
   ]
  },
  {
   "cell_type": "code",
   "execution_count": 47,
   "metadata": {},
   "outputs": [
    {
     "output_type": "stream",
     "name": "stdout",
     "text": "True\nTrue\n"
    }
   ],
   "source": [
    "my_name = 'Peter Peterson'\n",
    "\n",
    "print(my_name.startswith('Peter'))\n",
    "\n",
    "print(my_name.endswith('Peterson'))"
   ]
  },
  {
   "cell_type": "code",
   "execution_count": 49,
   "metadata": {},
   "outputs": [
    {
     "output_type": "stream",
     "name": "stdout",
     "text": "Magnus Magnusson\n"
    }
   ],
   "source": [
    "if my_name.startswith('Peter'):\n",
    "    my_name = my_name.replace('Peter', 'Magnus')\n",
    "\n",
    "print(my_name)"
   ]
  }
 ]
}