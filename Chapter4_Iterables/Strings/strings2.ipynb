{
 "nbformat": 4,
 "nbformat_minor": 2,
 "metadata": {
  "language_info": {
   "name": "python",
   "codemirror_mode": {
    "name": "ipython",
    "version": 3
   },
   "version": "3.8.1-final"
  },
  "orig_nbformat": 2,
  "file_extension": ".py",
  "mimetype": "text/x-python",
  "name": "python",
  "npconvert_exporter": "python",
  "pygments_lexer": "ipython3",
  "version": 3,
  "kernelspec": {
   "name": "python38164bitpyudemyconda8c705f49a8e643418ce4b1ca64c8ab63",
   "display_name": "Python 3.8.1 64-bit ('pyUdemy': conda)"
  }
 },
 "cells": [
  {
   "cell_type": "code",
   "execution_count": 8,
   "metadata": {},
   "outputs": [],
   "source": [
    "# FIRSTNAME LASTNAME\n",
    "text = \"Hello my  name is Jan Schaffranek:\""
   ]
  },
  {
   "cell_type": "code",
   "execution_count": 14,
   "metadata": {},
   "outputs": [
    {
     "output_type": "stream",
     "name": "stdout",
     "text": "['Hello', 'my', '', 'name', 'is', 'Jan', 'Schaffranek:']\n"
    }
   ],
   "source": [
    "my_firstname = my_name.split(' ')\n",
    "\n",
    "print(my_firstname)"
   ]
  },
  {
   "cell_type": "code",
   "execution_count": 17,
   "metadata": {},
   "outputs": [
    {
     "output_type": "stream",
     "name": "stdout",
     "text": "-1\n\n"
    }
   ],
   "source": [
    "my_firstname_start_idx = my_name.find('Yan')\n",
    "print(my_firstname_start_idx)\n",
    "\n",
    "my_firstname = my_name[my_firstname_start_idx:my_firstname_start_idx+3]\n",
    "print(my_firstname)"
   ]
  },
  {
   "cell_type": "code",
   "execution_count": 20,
   "metadata": {},
   "outputs": [
    {
     "output_type": "stream",
     "name": "stdout",
     "text": "Peter Peterson\n"
    }
   ],
   "source": [
    "my_firstname = 'Peter'\n",
    "my_lastname = 'Peterson'\n",
    "\n",
    "my_name = my_firstname + ' ' + my_lastname\n",
    "print(my_name)"
   ]
  },
  {
   "cell_type": "code",
   "execution_count": 21,
   "metadata": {},
   "outputs": [
    {
     "output_type": "stream",
     "name": "stdout",
     "text": "Jan Peter Dennis \n"
    }
   ],
   "source": [
    "friend_names = ['Jan', 'Peter', 'Dennis']\n",
    "\n",
    "output_str = ''\n",
    "for name in friend_names:\n",
    "    output_str += name + ' '\n",
    "\n",
    "print(output_str)"
   ]
  },
  {
   "cell_type": "code",
   "execution_count": null,
   "metadata": {},
   "outputs": [],
   "source": [
    "output_str2 = ''.join(friend_names)"
   ]
  }
 ]
}