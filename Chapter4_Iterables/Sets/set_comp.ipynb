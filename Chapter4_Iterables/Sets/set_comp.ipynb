{
 "nbformat": 4,
 "nbformat_minor": 2,
 "metadata": {
  "language_info": {
   "name": "python",
   "codemirror_mode": {
    "name": "ipython",
    "version": 3
   },
   "version": "3.8.1-final"
  },
  "orig_nbformat": 2,
  "file_extension": ".py",
  "mimetype": "text/x-python",
  "name": "python",
  "npconvert_exporter": "python",
  "pygments_lexer": "ipython3",
  "version": 3,
  "kernelspec": {
   "name": "python38164bitpyudemyconda8c705f49a8e643418ce4b1ca64c8ab63",
   "display_name": "Python 3.8.1 64-bit ('pyUdemy': conda)"
  }
 },
 "cells": [
  {
   "cell_type": "code",
   "execution_count": 3,
   "metadata": {},
   "outputs": [
    {
     "output_type": "stream",
     "name": "stdout",
     "text": "set() <class 'set'>\n"
    }
   ],
   "source": [
    "my_set = set()\n",
    "\n",
    "print(my_set, type(my_set))"
   ]
  },
  {
   "cell_type": "code",
   "execution_count": 7,
   "metadata": {},
   "outputs": [
    {
     "output_type": "stream",
     "name": "stdout",
     "text": "{0, 1, 2, 3, 4, 5, 6, 7, 8, 9}\n"
    }
   ],
   "source": [
    "for i in range(10):\n",
    "    my_set.add(i)\n",
    "\n",
    "print(my_set)"
   ]
  },
  {
   "cell_type": "code",
   "execution_count": 8,
   "metadata": {},
   "outputs": [
    {
     "output_type": "stream",
     "name": "stdout",
     "text": "{0, 1, 2, 3, 4, 5, 6, 7, 8, 9}\n"
    }
   ],
   "source": [
    "my_set_comp = {i for i in range(10)}\n",
    "\n",
    "print(my_set_comp)"
   ]
  },
  {
   "cell_type": "code",
   "execution_count": 9,
   "metadata": {},
   "outputs": [
    {
     "output_type": "stream",
     "name": "stdout",
     "text": "{4, -1}\n"
    }
   ],
   "source": [
    "my_set_comp2 = {i if i % 2 == 0 else -1 for i in range(10) if i % 3 == 1}\n",
    "\n",
    "print(my_set_comp2)"
   ]
  },
  {
   "cell_type": "code",
   "execution_count": 11,
   "metadata": {},
   "outputs": [],
   "source": [
    "# my_set_comp3 = {set([1, 2]) for i in range(10) if i % 3 == 1}\n",
    "\n",
    "# print(my_set_comp3)"
   ]
  }
 ]
}