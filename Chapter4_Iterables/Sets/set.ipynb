{
 "nbformat": 4,
 "nbformat_minor": 2,
 "metadata": {
  "language_info": {
   "name": "python",
   "codemirror_mode": {
    "name": "ipython",
    "version": 3
   },
   "version": "3.8.1-final"
  },
  "orig_nbformat": 2,
  "file_extension": ".py",
  "mimetype": "text/x-python",
  "name": "python",
  "npconvert_exporter": "python",
  "pygments_lexer": "ipython3",
  "version": 3,
  "kernelspec": {
   "name": "python38164bitpyudemyconda8c705f49a8e643418ce4b1ca64c8ab63",
   "display_name": "Python 3.8.1 64-bit ('pyUdemy': conda)"
  }
 },
 "cells": [
  {
   "cell_type": "code",
   "execution_count": 2,
   "metadata": {},
   "outputs": [
    {
     "output_type": "stream",
     "name": "stdout",
     "text": "{1, 2, 3} <class 'set'>\n"
    }
   ],
   "source": [
    "my_set1 = {1, 2, 3, 1}\n",
    "\n",
    "print(my_set1, type(my_set1))"
   ]
  },
  {
   "cell_type": "code",
   "execution_count": 7,
   "metadata": {},
   "outputs": [
    {
     "output_type": "stream",
     "name": "stdout",
     "text": "{1, 2, 3} <class 'set'>\n"
    }
   ],
   "source": [
    "my_set2 = set([1, 2, 3, 1])\n",
    "\n",
    "print(my_set1, type(my_set1))"
   ]
  },
  {
   "cell_type": "code",
   "execution_count": 8,
   "metadata": {},
   "outputs": [],
   "source": [
    "my_set3 = {4, 5, 6}\n",
    "my_set4 = {6, 7, 8}"
   ]
  },
  {
   "cell_type": "code",
   "execution_count": 10,
   "metadata": {},
   "outputs": [
    {
     "output_type": "stream",
     "name": "stdout",
     "text": "{6}\n{4, 5, 6, 7, 8}\n"
    }
   ],
   "source": [
    "print(my_set3.intersection(my_set4))\n",
    "print(my_set3.union(my_set4))"
   ]
  },
  {
   "cell_type": "code",
   "execution_count": 13,
   "metadata": {},
   "outputs": [
    {
     "output_type": "stream",
     "name": "stdout",
     "text": "yes\n"
    }
   ],
   "source": [
    "if 4 in my_set3:\n",
    "    print('yes')"
   ]
  },
  {
   "cell_type": "code",
   "execution_count": 14,
   "metadata": {},
   "outputs": [
    {
     "output_type": "stream",
     "name": "stdout",
     "text": "3\n"
    }
   ],
   "source": [
    "print(len(my_set3))"
   ]
  },
  {
   "cell_type": "code",
   "execution_count": 20,
   "metadata": {},
   "outputs": [
    {
     "output_type": "stream",
     "name": "stdout",
     "text": "{42, 4, 5, 6}\n{4, 5, 6}\n{5, 6}\n"
    }
   ],
   "source": [
    "my_set3 = {4, 5, 6}\n",
    "\n",
    "my_set3.add(42)\n",
    "print(my_set3)\n",
    "my_set3.pop()\n",
    "print(my_set3)\n",
    "my_set3.discard(4)\n",
    "print(my_set3)"
   ]
  },
  {
   "cell_type": "code",
   "execution_count": 21,
   "metadata": {},
   "outputs": [
    {
     "output_type": "stream",
     "name": "stdout",
     "text": "{1, 2, 3, 4, 5}\n"
    }
   ],
   "source": [
    "my_idxs = [1, 2, 3, 3, 4, 5, 5]\n",
    "my_set = set(my_idxs)\n",
    "\n",
    "print(my_set)"
   ]
  }
 ]
}