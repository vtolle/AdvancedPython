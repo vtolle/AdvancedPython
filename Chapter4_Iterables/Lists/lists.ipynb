{
 "nbformat": 4,
 "nbformat_minor": 2,
 "metadata": {
  "language_info": {
   "name": "python",
   "codemirror_mode": {
    "name": "ipython",
    "version": 3
   },
   "version": "3.8.5-final"
  },
  "orig_nbformat": 2,
  "file_extension": ".py",
  "mimetype": "text/x-python",
  "name": "python",
  "npconvert_exporter": "python",
  "pygments_lexer": "ipython3",
  "version": 3,
  "kernelspec": {
   "name": "python38564bitpyadvancedcondab616d4d1378b48de9ece42a5513222bf",
   "display_name": "Python 3.8.5 64-bit ('pyAdvanced': conda)"
  }
 },
 "cells": [
  {
   "cell_type": "code",
   "execution_count": 1,
   "metadata": {
    "tags": []
   },
   "outputs": [
    {
     "output_type": "stream",
     "name": "stdout",
     "text": "[1, 2, 3, -10]\n[1, 2, 3, -10, 4, 5]\n[1, 2, 3, -10, 4, 5, -2, -1, 0, 1, 2]\n['hello', 1, 2, 3, -10, 4, 5, -2, -1, 0, 1, 2]\n['hello', 'hello', 1, 2, 3, -10, 4, 5, -2, -1, 0, 1, 2]\n['hello', 'hello', 1, 2, 3, -10, 4, 5, -2, -1, 0, 1]\n[1, 2, 3, -10, 4, 5, -2, -1, 0, 1]\n0x7f0f7449db00\n0x7f0f7449db00\n0x7f0f7449db00\n0x7f0f7449da00\n[1, 0, -1, -2, 5, 4, -10, 3, 2, 1]\n[1, 2, 3, -10, 4, 5, -2, -1, 0, 1]\n2\n"
    },
    {
     "output_type": "error",
     "ename": "TypeError",
     "evalue": "'<' not supported between instances of 'int' and 'str'",
     "traceback": [
      "\u001b[0;31m---------------------------------------------------------------------------\u001b[0m",
      "\u001b[0;31mTypeError\u001b[0m                                 Traceback (most recent call last)",
      "\u001b[0;32m<ipython-input-1-8b00f31115dc>\u001b[0m in \u001b[0;36m<module>\u001b[0;34m\u001b[0m\n\u001b[1;32m     45\u001b[0m \u001b[0;34m\u001b[0m\u001b[0m\n\u001b[1;32m     46\u001b[0m \u001b[0;32mif\u001b[0m \u001b[0m__name__\u001b[0m \u001b[0;34m==\u001b[0m \u001b[0;34m\"__main__\"\u001b[0m\u001b[0;34m:\u001b[0m\u001b[0;34m\u001b[0m\u001b[0;34m\u001b[0m\u001b[0m\n\u001b[0;32m---> 47\u001b[0;31m     \u001b[0mmain\u001b[0m\u001b[0;34m(\u001b[0m\u001b[0;34m)\u001b[0m\u001b[0;34m\u001b[0m\u001b[0;34m\u001b[0m\u001b[0m\n\u001b[0m",
      "\u001b[0;32m<ipython-input-1-8b00f31115dc>\u001b[0m in \u001b[0;36mmain\u001b[0;34m()\u001b[0m\n\u001b[1;32m     41\u001b[0m     \u001b[0;31m# Sort\u001b[0m\u001b[0;34m\u001b[0m\u001b[0;34m\u001b[0m\u001b[0;34m\u001b[0m\u001b[0m\n\u001b[1;32m     42\u001b[0m     \u001b[0mmy_list\u001b[0m\u001b[0;34m.\u001b[0m\u001b[0mappend\u001b[0m\u001b[0;34m(\u001b[0m\u001b[0;34m'hello'\u001b[0m\u001b[0;34m)\u001b[0m\u001b[0;34m\u001b[0m\u001b[0;34m\u001b[0m\u001b[0m\n\u001b[0;32m---> 43\u001b[0;31m     \u001b[0mmy_list\u001b[0m\u001b[0;34m.\u001b[0m\u001b[0msort\u001b[0m\u001b[0;34m(\u001b[0m\u001b[0mreverse\u001b[0m\u001b[0;34m=\u001b[0m\u001b[0;32mTrue\u001b[0m\u001b[0;34m)\u001b[0m\u001b[0;34m\u001b[0m\u001b[0;34m\u001b[0m\u001b[0m\n\u001b[0m\u001b[1;32m     44\u001b[0m     \u001b[0mprint\u001b[0m\u001b[0;34m(\u001b[0m\u001b[0mmy_list\u001b[0m\u001b[0;34m)\u001b[0m\u001b[0;34m\u001b[0m\u001b[0;34m\u001b[0m\u001b[0m\n\u001b[1;32m     45\u001b[0m \u001b[0;34m\u001b[0m\u001b[0m\n",
      "\u001b[0;31mTypeError\u001b[0m: '<' not supported between instances of 'int' and 'str'"
     ]
    }
   ],
   "source": [
    "def main():\n",
    "    my_list = [1, 2, 3]\n",
    "\n",
    "    # Option 1: Single Value\n",
    "    my_list.append(-10)\n",
    "    print(my_list)\n",
    "    # Option 2: List Concatenation\n",
    "    my_list2 = [4, 5]\n",
    "    #my_list += my_list2\n",
    "    my_list = my_list + my_list2\n",
    "    print(my_list)\n",
    "    # Option 3: Iterables\n",
    "    it = range(-2, 3, 1)\n",
    "    my_list.extend(it)\n",
    "    print(my_list)\n",
    "    # Option 4: Insert at user-defined index\n",
    "    my_list.insert(0, \"hello\")\n",
    "    print(my_list)\n",
    "    my_list.insert(-30, \"hello\")\n",
    "    print(my_list)\n",
    "    # Remove values\n",
    "    my_list.pop()\n",
    "    print(my_list)\n",
    "    while 'hello' in my_list:\n",
    "        idx = my_list.index('hello')\n",
    "        my_list.pop(idx)\n",
    "    print(my_list)\n",
    "    # Copy\n",
    "    my_list_new = my_list\n",
    "    print(hex(id(my_list)))\n",
    "    print(hex(id(my_list_new)))\n",
    "    my_list_new = my_list.copy()\n",
    "    print(hex(id(my_list)))\n",
    "    print(hex(id(my_list_new)))\n",
    "    # Reverse\n",
    "    my_list.reverse()\n",
    "    print(my_list)\n",
    "    print(my_list[::-1])\n",
    "    # Count\n",
    "    print(my_list.count(1))\n",
    "    # Sort\n",
    "    my_list.append('hello')\n",
    "    my_list.sort(reverse=True)\n",
    "    print(my_list)\n",
    "\n",
    "if __name__ == \"__main__\":\n",
    "    main()\n"
   ]
  },
  {
   "cell_type": "code",
   "execution_count": null,
   "metadata": {},
   "outputs": [],
   "source": []
  }
 ]
}