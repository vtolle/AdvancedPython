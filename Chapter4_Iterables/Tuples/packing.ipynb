{
 "nbformat": 4,
 "nbformat_minor": 2,
 "metadata": {
  "language_info": {
   "name": "python",
   "codemirror_mode": {
    "name": "ipython",
    "version": 3
   },
   "version": "3.8.1-final"
  },
  "orig_nbformat": 2,
  "file_extension": ".py",
  "mimetype": "text/x-python",
  "name": "python",
  "npconvert_exporter": "python",
  "pygments_lexer": "ipython3",
  "version": 3,
  "kernelspec": {
   "name": "python38164bitpyudemyconda8c705f49a8e643418ce4b1ca64c8ab63",
   "display_name": "Python 3.8.1 64-bit ('pyUdemy': conda)"
  }
 },
 "cells": [
  {
   "cell_type": "code",
   "execution_count": 10,
   "metadata": {},
   "outputs": [],
   "source": [
    "def squaring_list(input_list):\n",
    "    sqaured_list = [val**2 for val in input_list]\n",
    "    return input_list, sqaured_list, True, 10"
   ]
  },
  {
   "cell_type": "code",
   "execution_count": 14,
   "metadata": {},
   "outputs": [
    {
     "output_type": "stream",
     "name": "stdout",
     "text": "<class 'tuple'> ([0, 1, 2, 3, 4, 5, 6, 7, 8, 9], [0, 1, 4, 9, 16, 25, 36, 49, 64, 81], True, 10)\n[0, 1, 2, 3, 4, 5, 6, 7, 8, 9]\n[0, 1, 4, 9, 16, 25, 36, 49, 64, 81]\n[True, 10] <class 'list'>\n"
    }
   ],
   "source": [
    "my_list = [val for val in range(10)]\n",
    "\n",
    "return_tuple = squaring_list(my_list)\n",
    "print(type(return_tuple), return_tuple)\n",
    "\n",
    "# Tuple unpacking\n",
    "my_list, squared_list, *other_return_value = return_tuple\n",
    "print(my_list)\n",
    "print(squared_list)\n",
    "print(other_return_value, type(other_return_value))"
   ]
  },
  {
   "cell_type": "code",
   "execution_count": 19,
   "metadata": {},
   "outputs": [
    {
     "output_type": "stream",
     "name": "stdout",
     "text": "(2, 3, 4) <class 'tuple'>\n"
    }
   ],
   "source": [
    "# Tuple packing\n",
    "x = 2\n",
    "y = 3\n",
    "z = 4\n",
    "\n",
    "t = x, y, z\n",
    "print(t, type(t))"
   ]
  }
 ]
}