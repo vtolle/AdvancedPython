{
 "nbformat": 4,
 "nbformat_minor": 2,
 "metadata": {
  "language_info": {
   "name": "python",
   "codemirror_mode": {
    "name": "ipython",
    "version": 3
   },
   "version": "3.8.1-final"
  },
  "orig_nbformat": 2,
  "file_extension": ".py",
  "mimetype": "text/x-python",
  "name": "python",
  "npconvert_exporter": "python",
  "pygments_lexer": "ipython3",
  "version": 3,
  "kernelspec": {
   "name": "python38164bitpyudemyconda8c705f49a8e643418ce4b1ca64c8ab63",
   "display_name": "Python 3.8.1 64-bit ('pyUdemy': conda)"
  }
 },
 "cells": [
  {
   "cell_type": "code",
   "execution_count": 2,
   "metadata": {},
   "outputs": [
    {
     "output_type": "stream",
     "name": "stdout",
     "text": "{0: 0, 1: 1, 2: 4, 3: 9, 4: 16, 5: 25, 6: 36, 7: 49, 8: 64, 9: 81}\n"
    }
   ],
   "source": [
    "my_dict = {}\n",
    "\n",
    "for i in range(10):\n",
    "    my_dict[i] = i**2\n",
    "\n",
    "print(my_dict)"
   ]
  },
  {
   "cell_type": "code",
   "execution_count": 4,
   "metadata": {},
   "outputs": [
    {
     "output_type": "stream",
     "name": "stdout",
     "text": "{0: 0, 1: 1, 2: 4, 3: 9, 4: 16, 5: 25, 6: 36, 7: 49, 8: 64, 9: 81}\n"
    }
   ],
   "source": [
    "my_dict_comp = {val: val**2 for val in range(10)}\n",
    "\n",
    "print(my_dict_comp)"
   ]
  },
  {
   "cell_type": "code",
   "execution_count": 5,
   "metadata": {},
   "outputs": [
    {
     "output_type": "stream",
     "name": "stdout",
     "text": "{0: 0, 2: 4, 4: 16, 6: 36, 8: 64}\n"
    }
   ],
   "source": [
    "my_dict_comp2 = {val: val**2 for val in range(10) if val % 2 == 0}\n",
    "\n",
    "print(my_dict_comp2)"
   ]
  },
  {
   "cell_type": "code",
   "execution_count": 10,
   "metadata": {},
   "outputs": [
    {
     "output_type": "stream",
     "name": "stdout",
     "text": "{0: 0.0, 2: 1.4142135623730951, 4: 2.0, 6: 36, 8: 64}\n"
    }
   ],
   "source": [
    "my_dict_comp3 = {val: val**2 if val > 5 else val**(1/2) for val in range(10) if val % 2 == 0}\n",
    "\n",
    "print(my_dict_comp3)"
   ]
  },
  {
   "cell_type": "code",
   "execution_count": 12,
   "metadata": {},
   "outputs": [
    {
     "output_type": "stream",
     "name": "stdout",
     "text": "{0: 0.0, 2: 1.4142135623730951, 4: 2.0, 6: 36, 8: 64}\n"
    }
   ],
   "source": [
    "my_dict2 = {}\n",
    "\n",
    "for val in range(10):\n",
    "    if val % 2 == 0:\n",
    "        if val > 5:\n",
    "            my_dict2[val] = val**2\n",
    "        else:\n",
    "            my_dict2[val] = val**(1/2)\n",
    "\n",
    "print(my_dict2)"
   ]
  },
  {
   "cell_type": "code",
   "execution_count": 17,
   "metadata": {},
   "outputs": [
    {
     "output_type": "stream",
     "name": "stdout",
     "text": "{'jan': {'firstname': None, 'lastname': None, 'birthday': None}, 'peter': {'firstname': None, 'lastname': None, 'birthday': None}, 'dennis': {'firstname': None, 'lastname': None, 'birthday': None}}\n"
    }
   ],
   "source": [
    "friends = ['jan', 'peter','dennis']\n",
    "friend_keys =  ['firstname', 'lastname', 'birthday']\n",
    "\n",
    "my_friend_dict1 = {'jan': {'firstname': None, 'lastname': None, 'birthday': None}, \n",
    "                  'peter': {'firstname': None, 'lastname': None, 'birthday': None}, \n",
    "                  'dennis': {'firstname': None, 'lastname': None, 'birthday': None},}\n",
    "\n",
    "print(my_friend_dict1)"
   ]
  },
  {
   "cell_type": "code",
   "execution_count": 19,
   "metadata": {},
   "outputs": [
    {
     "output_type": "stream",
     "name": "stdout",
     "text": "{'jan': {'firstname': None, 'lastname': None, 'birthday': None}, 'peter': {'firstname': None, 'lastname': None, 'birthday': None}, 'dennis': {'firstname': None, 'lastname': None, 'birthday': None}}\n"
    }
   ],
   "source": [
    "my_friend_dict2 = {}\n",
    "\n",
    "for friend_name in friends:\n",
    "    current_friend_dict = {}\n",
    "    for friend_key in friend_keys:\n",
    "        current_friend_dict[friend_key] = None\n",
    "    my_friend_dict2[friend_name] = current_friend_dict\n",
    "\n",
    "print(my_friend_dict2)"
   ]
  },
  {
   "cell_type": "code",
   "execution_count": 18,
   "metadata": {},
   "outputs": [
    {
     "output_type": "stream",
     "name": "stdout",
     "text": "{'jan': {'firstname': None, 'lastname': None, 'birthday': None}, 'peter': {'firstname': None, 'lastname': None, 'birthday': None}, 'dennis': {'firstname': None, 'lastname': None, 'birthday': None}}\n"
    }
   ],
   "source": [
    "my_friend_dict3 = {friend_name: {key: None for key in friend_keys} for friend_name in friends}\n",
    "\n",
    "print(my_friend_dict3)"
   ]
  }
 ]
}